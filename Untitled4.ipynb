{
 "cells": [
  {
   "cell_type": "code",
   "execution_count": null,
   "metadata": {},
   "outputs": [],
   "source": [
    "import matplotlib.pyplot as plt\n",
    "vsx_ = s_[:,0].data.numpy()\n",
    "y_ = s_[:,1].data.numpy()\n",
    "    \n",
    "plt.scatter(x_,y_,c='b',s=20)\n",
    "plt.scatter(cx,cy,c='r',s=1)\n",
    "    vs = torch.longTensor(len_horizon)*3"
   ]
  },
  {
   "cell_type": "code",
   "execution_count": null,
   "metadata": {},
   "outputs": [],
   "source": [
    "rc =vehicle_model(1.)\n",
    "rc.forward(path[0],controls_dt[0])"
   ]
  },
  {
   "cell_type": "code",
   "execution_count": null,
   "metadata": {},
   "outputs": [],
   "source": [
    "rc_ =vehicle_model(1./200)\n",
    "rc_.forward(path[0],controls_dt[0])"
   ]
  },
  {
   "cell_type": "code",
   "execution_count": null,
   "metadata": {},
   "outputs": [],
   "source": [
    "class corrected_model:\n",
    "    def __init__(self,p_model,gp_model):\n",
    "        self.p_model = p_model\n",
    "        self.g_model = gp_model\n",
    "        \n",
    "    def foraward(self,satate,control):\n",
    "        _myu,sigma = self.gp_model(state,control)\n",
    "        myu = _myu + self.p_model(statel,control)\n",
    "        return myu,sigma"
   ]
  },
  {
   "cell_type": "code",
   "execution_count": null,
   "metadata": {},
   "outputs": [],
   "source": [
    "import torch\n",
    "zero2 = torch.zeros(2,2)\n",
    "eye2 = torch.eye(2)\n",
    "B = torch.cat([zero2,eye2,zero2],dim=0)\n",
    "x = torch.arange(6).float()\n",
    "B.t()@x\n",
    "z2s = torch.cat([torch.zeros(2,4),torch.eye(4)],dim=0)\n",
    "s2z = z2s.t()\n",
    "s2z"
   ]
  },
  {
   "cell_type": "code",
   "execution_count": 10,
   "metadata": {},
   "outputs": [
    {
     "name": "stdout",
     "output_type": "stream",
     "text": [
      "tensor([ 0,  3,  6,  9, 12, 15, 18, 21, 24, 27, 30])\n",
      "T=\n",
      "0\n",
      "1.482811\n",
      "0.001083556\n",
      "tensor([ 0.2060,  0.5248,  1.0871,  1.9265,  3.0772,  4.5673,  6.4167,  8.6405,\n",
      "        11.2844, 13.5018])\n",
      "torch.Size([6]) torch.Size([3])\n",
      "torch.Size([]) torch.Size([212]) torch.Size([]) torch.Size([212])\n",
      "T=\n",
      "1\n",
      "56.616764\n",
      "0.01573755\n",
      "tensor([ 0.2088,  0.5334,  1.1098,  1.9745,  3.1631,  4.7061,  6.6230,  8.8777,\n",
      "        11.1446, 13.0028])\n",
      "torch.Size([6]) torch.Size([3])\n",
      "torch.Size([]) torch.Size([212]) torch.Size([]) torch.Size([212])\n",
      "T=\n",
      "2\n",
      "40.859818\n",
      "0.08806099\n",
      "tensor([ 0.2124,  0.5434,  1.1323,  2.0161,  3.2335,  4.8202,  6.7807,  8.9705,\n",
      "        11.0025, 12.9813])\n",
      "torch.Size([6]) torch.Size([3])\n",
      "torch.Size([]) torch.Size([212]) torch.Size([]) torch.Size([212])\n"
     ]
    },
    {
     "data": {
      "text/plain": [
       "<matplotlib.collections.PathCollection at 0x7ff65407eba8>"
      ]
     },
     "execution_count": 10,
     "metadata": {},
     "output_type": "execute_result"
    },
    {
     "data": {
      "image/png": "[encoded data removed]",
      "text/plain": [
       "<Figure size 432x288 with 1 Axes>"
      ]
     },
     "metadata": {
      "needs_background": "light"
     },
     "output_type": "display_data"
    }
   ],
   "source": [
    "import torch\n",
    "import torch.nn as nn\n",
    "from evals import *\n",
    "from optimization import *\n",
    "from gauss_update import *\n",
    "from kinetic_model import *\n",
    "import cubic_spline_planner\n",
    "\n",
    "\n",
    "import matplotlib.pyplot as plt\n",
    "import numpy as np\n",
    "\n",
    "ax = [0.0, 6.0, 12.5, 10.0, 7.5, 3.0, -1.0]\n",
    "ay = [0.0, -3.0, -5.0, 6.5, 3.0, 5.0, -2.0]\n",
    "goal = [ax[-1], ay[-1]]\n",
    "\n",
    "cx, cy, cyaw, ck, s = cubic_spline_planner.calc_spline_course(\n",
    "        ax, ay, ds=0.2)\n",
    "\n",
    "cx = torch.Tensor(cx).view(-1,1)\n",
    "cy = torch.Tensor(cy).view(-1,1)\n",
    "\n",
    "gx = cx[1:]-cx[:-1]\n",
    "gy = cy[1:]-cy[:-1]\n",
    "\n",
    "\n",
    "len_horizon = 10\n",
    "EMAX=1000\n",
    "kappa=0.01\n",
    "TMAX = 3\n",
    "ql=1.\n",
    "qc=1.\n",
    "step = 0\n",
    "sigma_w=0.01\n",
    "\n",
    "B = torch.cat([torch.zeros(2,2),torch.eye(2),torch.zeros(2,2)],dim=0)\n",
    "\n",
    "p_model = vehicle_model(WB=2.5)\n",
    "gp_model = GP_test(dim=2)\n",
    "gp_propagator = gaussian_propagator(p_model.forward,gp_model.forward,sigma_w)\n",
    "\n",
    "real_car_model = vehicle_model(WB=1.5,noise=True)\n",
    "\n",
    "waypoints = torch.cat([cx[:-1],cy[:-1],gx,gy],dim=1)\n",
    "\n",
    "start=40\n",
    "\n",
    "x0,y0,gx0,gy0 = waypoints[start]\n",
    "v0 = torch.sqrt(gx0.pow(2)+gy0.pow(2))*3\n",
    "yaw0 = torch.atan2(gy0,gx0)\n",
    "delta0=torch.zeros(1)\n",
    "a0=torch.zeros(1)\n",
    "state0 = torch.cat(  [x0.view(1),y0.view(1),yaw0.view(1),v0.view(1),delta0,a0])\n",
    "control0 = torch.Tensor([0.0001,0.0001,0.001])\n",
    "\n",
    "vars0 = torch.ones(len_horizon)*0.1\n",
    "_vars=vars0\n",
    "\n",
    "_controls = torch.nn.Parameter(torch.zeros(len_horizon,2))\n",
    "\n",
    "dt = torch.ones(len_horizon,1)\n",
    "#vs = torch.nn.Parameter(torch.ones(len_horizon)).data.clone()*3.0001\n",
    "vs = torch.LongTensor(torch.arange(len_horizon+1))*3\n",
    "\n",
    "print(vs)\n",
    "real_path = []\n",
    "#print(controls.size())\n",
    "for T in range(TMAX):\n",
    "    print(\"T=\")\n",
    "    print(T)\n",
    "\n",
    "    if T>0:\n",
    "        start = start_\n",
    "        \n",
    "        _controls = controls_.data.clone()\n",
    "    mpc = GP_MPC(gp_propagator,evaluate_,len_horizon,waypoints)\n",
    "    \n",
    "    controls_dt,path,vars_ = mpc.run(state0,_controls,vs,dt,start,_vars)\n",
    "    print(vars_)\n",
    "    controls = controls_dt[:,:-1]\n",
    "    print(state0.size(),controls_dt[0].size())\n",
    "    state_real = real_car_model.forward(state0,controls_dt[0])\n",
    "    real_path.append(state_real)\n",
    "    #break\n",
    "    #print(path[0],state_real)\n",
    "    #path_ = path[step:]\n",
    "    controls_ = _controls.data.clone()\n",
    "    controls_[:-(step+1)] = _controls[step+1:]\n",
    "    controls_[-(step+1):]=0\n",
    "    start_ = search_(state_real,waypoints,start)\n",
    "    \n",
    "    state0 = state_real.data.clone()\n",
    "    _vars = vars_.data.clone()\n",
    "    \n",
    "    \n",
    "x_ = path[:,0].data.numpy()\n",
    "y_ = path[:,1].data.numpy()\n",
    "    \n",
    "plt.scatter(x_,y_,c='b',s=20)\n",
    "plt.scatter(cx,cy,c='r',s=1)"
   ]
  },
  {
   "cell_type": "code",
   "execution_count": null,
   "metadata": {},
   "outputs": [],
   "source": [
    "import torch\n",
    "a=torch.randn(40,40)\n",
    "a.svd()[1][0],a[1]"
   ]
  },
  {
   "cell_type": "code",
   "execution_count": null,
   "metadata": {},
   "outputs": [],
   "source": [
    "real_path_ = torch.cat(real_path,dim=0).view(-1,6)\n",
    "\n",
    "print(real_path_.size())\n",
    "x_ = real_path_[:,0].data.numpy()\n",
    "y_ = real_path_[:,1].data.numpy()\n",
    "    \n",
    "plt.scatter(x_,y_,c='b',s=20)\n",
    "plt.scatter(cx,cy,c='r',s=1)"
   ]
  },
  {
   "cell_type": "code",
   "execution_count": null,
   "metadata": {},
   "outputs": [],
   "source": [
    "x_ = path[:,0].data.numpy()\n",
    "y_ = path[:,1].data.numpy()\n",
    "    \n",
    "plt.scatter(x_,y_,c='b',s=20)\n",
    "plt.scatter(cx,cy,c='r',s=1)"
   ]
  },
  {
   "cell_type": "code",
   "execution_count": null,
   "metadata": {},
   "outputs": [],
   "source": [
    "plt.scatter(x_,y_,c='b',s=40)\n",
    "plt.scatter(cx,cy,c='r',s=1)\n",
    "wx,wy = cx[vs+start].data.cpu().numpy(),cy[vs+start].data.cpu().numpy()\n",
    "wx,wy=s0[:,0],s0[:,1]\n",
    "plt.scatter(wx,wy,c='k',s=40)"
   ]
  },
  {
   "cell_type": "code",
   "execution_count": 5,
   "metadata": {},
   "outputs": [],
   "source": [
    "ql=1.\n",
    "qc=1.\n",
    "cv = 0.5\n",
    "def evaluate_(path,refs,vs,variances):\n",
    "    mean_error = error_deviation_parallel_(path,refs,ql,qc)\n",
    "    var_error = ( variances*(path[:,:2]-refs[:,:2]).pow(2).sum(dim=1) ).sum()\n",
    "    #print(mean_error,var_error)\n",
    "     \n",
    "    return mean_error + cv*var_error"
   ]
  },
  {
   "cell_type": "code",
   "execution_count": 6,
   "metadata": {},
   "outputs": [],
   "source": [
    "learning_rate=0.01\n",
    "dim_s=2\n",
    "\n",
    "class GP_MPC:\n",
    "    def __init__(self,gp_propagator,evaluate,len_horizon,waypoints):\n",
    "        self.waypoints = waypoints\n",
    "        self.len_horizon = len_horizon\n",
    "        self.gp_propagator = gp_propagator\n",
    "        self.evaluate = evaluate\n",
    "        \n",
    "    def run(self,state_init,controls_init,vs,dt,start,_vars):\n",
    "        start = torch.LongTensor([start])\n",
    "        state_init = state_init.data.clone()\n",
    "        controls = torch.nn.Parameter(controls_init.data.clone())\n",
    "        vs = torch.LongTensor(vs.data.clone())\n",
    "        if len(dt)==1:\n",
    "            dt = torch.ones(self.len_horizon).view(-1,1)*dt\n",
    "        opt =  torch.optim.Adam([controls],lr=learning_rate)\n",
    "        refs = waypoints[vs[1:]+start]\n",
    "        _,sigma_init = self.gp_propagator.initialize(state_init,controls[0])\n",
    "        for epoch in range(EMAX):\n",
    "            controls_dt = torch.cat([controls,dt],dim=1)\n",
    "            state  = state_init\n",
    "            sigma = sigma_init\n",
    "            \n",
    "            path = []\n",
    "            if epoch == EMAX-1:\n",
    "                vars_ = []\n",
    "                for t in range(len_horizon):\n",
    "                    state,sigma = self.gp_propagator.forward(state,controls_dt[t],sigma,True)\n",
    "                    sigma_xy = sigma[:dim_s,:dim_s]\n",
    "                    _,eigs,_ = sigma.svd()\n",
    "                    var = eigs[0]                   # the largest eigenvalue of sigma_xy \n",
    "                    path.append(state.view(1,-1))\n",
    "                    vars_.append(var.view(1))\n",
    "                path = torch.cat(path,dim=0)\n",
    "                vars_ = torch.cat(vars_,dim=0)\n",
    "            else:\n",
    "                for t in range(len_horizon):\n",
    "                    state,_ = self.gp_propagator.forward(state,controls_dt[t],sigma,False)\n",
    "                    path.append(state.view(1,-1))\n",
    "                path = torch.cat(path,dim=0)\n",
    "            \n",
    "            opt.zero_grad()\n",
    "            loss = self.evaluate(path,refs,vs,_vars) \n",
    "            loss.backward()\n",
    "            opt.step()\n",
    "            if epoch % 500 ==0:\n",
    "                print(loss.data.numpy())\n",
    "        controls_dt = torch.cat([controls,dt],dim=1)\n",
    "        return controls_dt,path,vars_.data.clone()"
   ]
  },
  {
   "cell_type": "code",
   "execution_count": null,
   "metadata": {},
   "outputs": [],
   "source": []
  },
  {
   "cell_type": "code",
   "execution_count": null,
   "metadata": {},
   "outputs": [],
   "source": []
  }
 ],
 "metadata": {
  "kernelspec": {
   "display_name": "Python 3",
   "language": "python",
   "name": "python3"
  },
  "language_info": {
   "codemirror_mode": {
    "name": "ipython",
    "version": 3
   },
   "file_extension": ".py",
   "mimetype": "text/x-python",
   "name": "python",
   "nbconvert_exporter": "python",
   "pygments_lexer": "ipython3",
   "version": "3.6.8"
  }
 },
 "nbformat": 4,
 "nbformat_minor": 4
}
