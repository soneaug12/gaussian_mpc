{
 "cells": [
  {
   "cell_type": "code",
   "execution_count": null,
   "metadata": {},
   "outputs": [],
   "source": [
    "import matplotlib.pyplot as plt\n",
    "vsx_ = s_[:,0].data.numpy()\n",
    "y_ = s_[:,1].data.numpy()\n",
    "    \n",
    "plt.scatter(x_,y_,c='b',s=20)\n",
    "plt.scatter(cx,cy,c='r',s=1)\n",
    "    vs = torch.longTensor(len_horizon)*3"
   ]
  },
  {
   "cell_type": "code",
   "execution_count": 28,
   "metadata": {},
   "outputs": [
    {
     "data": {
      "text/plain": [
       "tensor([11.6842, -5.5343, -0.3132,  0.5882, -0.2611,  0.0123],\n",
       "       grad_fn=<CatBackward>)"
      ]
     },
     "execution_count": 28,
     "metadata": {},
     "output_type": "execute_result"
    }
   ],
   "source": [
    "rc =vehicle_model(1.)\n",
    "rc.forward(path[0],controls_dt[0])"
   ]
  },
  {
   "cell_type": "code",
   "execution_count": 29,
   "metadata": {},
   "outputs": [
    {
     "data": {
      "text/plain": [
       "tensor([ 1.1684e+01, -5.5343e+00, -1.5506e+01,  5.8816e-01, -2.6109e-01,\n",
       "         1.2283e-02], grad_fn=<CatBackward>)"
      ]
     },
     "execution_count": 29,
     "metadata": {},
     "output_type": "execute_result"
    }
   ],
   "source": [
    "rc_ =vehicle_model(1./200)\n",
    "rc_.forward(path[0],controls_dt[0])"
   ]
  },
  {
   "cell_type": "code",
   "execution_count": 47,
   "metadata": {},
   "outputs": [
    {
     "name": "stdout",
     "output_type": "stream",
     "text": [
      "tensor([ 0,  3,  6,  9, 12, 15, 18, 21, 24, 27, 30])\n",
      "T=\n",
      "0\n",
      "0.51528883\n",
      "0.000494946\n",
      "torch.Size([6]) torch.Size([3])\n",
      "torch.Size([]) torch.Size([212]) torch.Size([]) torch.Size([212])\n",
      "T=\n",
      "1\n",
      "0.3190604\n",
      "0.000483717\n",
      "torch.Size([6]) torch.Size([3])\n",
      "torch.Size([]) torch.Size([212]) torch.Size([]) torch.Size([212])\n",
      "T=\n",
      "2\n",
      "0.29562992\n",
      "0.0010066641\n",
      "torch.Size([6]) torch.Size([3])\n",
      "torch.Size([]) torch.Size([212]) torch.Size([]) torch.Size([212])\n",
      "T=\n",
      "3\n",
      "0.43493512\n",
      "0.0042665284\n",
      "torch.Size([6]) torch.Size([3])\n",
      "torch.Size([]) torch.Size([212]) torch.Size([]) torch.Size([212])\n",
      "T=\n",
      "4\n",
      "0.8486596\n",
      "0.011120641\n",
      "torch.Size([6]) torch.Size([3])\n",
      "torch.Size([]) torch.Size([212]) torch.Size([]) torch.Size([212])\n",
      "T=\n",
      "5\n",
      "1.4111841\n",
      "0.018706586\n",
      "torch.Size([6]) torch.Size([3])\n",
      "torch.Size([]) torch.Size([212]) torch.Size([]) torch.Size([212])\n",
      "T=\n",
      "6\n",
      "1.7719783\n",
      "0.026163865\n",
      "torch.Size([6]) torch.Size([3])\n",
      "torch.Size([]) torch.Size([212]) torch.Size([]) torch.Size([212])\n",
      "T=\n",
      "7\n",
      "1.6556798\n",
      "0.031296644\n",
      "torch.Size([6]) torch.Size([3])\n",
      "torch.Size([]) torch.Size([212]) torch.Size([]) torch.Size([212])\n",
      "T=\n",
      "8\n",
      "1.5561366\n",
      "0.02818155\n",
      "torch.Size([6]) torch.Size([3])\n",
      "torch.Size([]) torch.Size([212]) torch.Size([]) torch.Size([212])\n",
      "T=\n",
      "9\n",
      "1.1107941\n",
      "0.02765983\n",
      "torch.Size([6]) torch.Size([3])\n",
      "torch.Size([]) torch.Size([212]) torch.Size([]) torch.Size([212])\n",
      "T=\n",
      "10\n",
      "9.285178\n",
      "0.045080848\n",
      "torch.Size([6]) torch.Size([3])\n",
      "torch.Size([]) torch.Size([212]) torch.Size([]) torch.Size([212])\n",
      "T=\n",
      "11\n",
      "5.9877396\n",
      "0.08164187\n",
      "torch.Size([6]) torch.Size([3])\n",
      "torch.Size([]) torch.Size([212]) torch.Size([]) torch.Size([212])\n",
      "T=\n",
      "12\n",
      "2.6366045\n",
      "0.13417928\n",
      "torch.Size([6]) torch.Size([3])\n",
      "torch.Size([]) torch.Size([212]) torch.Size([]) torch.Size([212])\n",
      "T=\n",
      "13\n",
      "0.56148475\n",
      "0.13050494\n",
      "torch.Size([6]) torch.Size([3])\n",
      "torch.Size([]) torch.Size([212]) torch.Size([]) torch.Size([212])\n",
      "T=\n",
      "14\n",
      "0.5949676\n",
      "0.11052068\n",
      "torch.Size([6]) torch.Size([3])\n",
      "torch.Size([]) torch.Size([212]) torch.Size([]) torch.Size([212])\n",
      "T=\n",
      "15\n",
      "1.0449328\n",
      "0.05780882\n",
      "torch.Size([6]) torch.Size([3])\n",
      "torch.Size([]) torch.Size([212]) torch.Size([]) torch.Size([212])\n",
      "T=\n",
      "16\n",
      "0.6465386\n",
      "0.027876774\n",
      "torch.Size([6]) torch.Size([3])\n",
      "torch.Size([]) torch.Size([212]) torch.Size([]) torch.Size([212])\n",
      "T=\n",
      "17\n",
      "0.24150792\n",
      "0.00922889\n",
      "torch.Size([6]) torch.Size([3])\n",
      "torch.Size([]) torch.Size([212]) torch.Size([]) torch.Size([212])\n",
      "T=\n",
      "18\n",
      "0.2030375\n",
      "0.0012901748\n",
      "torch.Size([6]) torch.Size([3])\n",
      "torch.Size([]) torch.Size([212]) torch.Size([]) torch.Size([212])\n",
      "T=\n",
      "19\n",
      "0.24905509\n",
      "0.005600761\n",
      "torch.Size([6]) torch.Size([3])\n",
      "torch.Size([]) torch.Size([212]) torch.Size([]) torch.Size([212])\n"
     ]
    },
    {
     "data": {
      "text/plain": [
       "<matplotlib.collections.PathCollection at 0x7f0f96af4630>"
      ]
     },
     "execution_count": 47,
     "metadata": {},
     "output_type": "execute_result"
    },
    {
     "data": {
      "image/png": "[encoded data removed]",
      "text/plain": [
       "<Figure size 432x288 with 1 Axes>"
      ]
     },
     "metadata": {
      "needs_background": "light"
     },
     "output_type": "display_data"
    }
   ],
   "source": [
    "import torch\n",
    "import torch.nn as nn\n",
    "from evals import *\n",
    "from optimization import *\n",
    "from gauss_update import *\n",
    "from kinetic_model import *\n",
    "import cubic_spline_planner\n",
    "\n",
    "\n",
    "import matplotlib.pyplot as plt\n",
    "import numpy as np\n",
    "\n",
    "ax = [0.0, 6.0, 12.5, 10.0, 7.5, 3.0, -1.0]\n",
    "ay = [0.0, -3.0, -5.0, 6.5, 3.0, 5.0, -2.0]\n",
    "goal = [ax[-1], ay[-1]]\n",
    "\n",
    "cx, cy, cyaw, ck, s = cubic_spline_planner.calc_spline_course(\n",
    "        ax, ay, ds=0.2)\n",
    "\n",
    "cx = torch.Tensor(cx).view(-1,1)\n",
    "cy = torch.Tensor(cy).view(-1,1)\n",
    "\n",
    "gx = cx[1:]-cx[:-1]\n",
    "gy = cy[1:]-cy[:-1]\n",
    "\n",
    "process_model = vehicle_model(WB=2.5)\n",
    "real_car_model = vehicle_model(WB=1.5,noise=True)\n",
    "\n",
    "waypoints = torch.cat([cx[:-1],cy[:-1],gx,gy],dim=1)\n",
    "\n",
    "start=40\n",
    "\n",
    "x0,y0,gx0,gy0 = waypoints[start]\n",
    "v0 = torch.sqrt(gx0.pow(2)+gy0.pow(2))*3\n",
    "yaw0 = torch.atan2(gy0,gx0)\n",
    "delta0=torch.zeros(1)\n",
    "a0=torch.zeros(1)\n",
    "state0 = torch.cat(  [x0.view(1),y0.view(1),yaw0.view(1),v0.view(1),delta0,a0])\n",
    "control0 = torch.Tensor([0.0001,0.0001,0.001])\n",
    "\n",
    "\n",
    "\n",
    "len_horizon = 10\n",
    "EMAX=1000\n",
    "kappa=0.01\n",
    "TMAX = 20\n",
    "ql=1.\n",
    "qc=1.\n",
    "step = 0\n",
    "_controls = torch.nn.Parameter(torch.zeros(len_horizon,2))\n",
    "\n",
    "dt = torch.ones(len_horizon,1)\n",
    "#vs = torch.nn.Parameter(torch.ones(len_horizon)).data.clone()*3.0001\n",
    "vs = torch.LongTensor(torch.arange(len_horizon+1))*3\n",
    "\n",
    "print(vs)\n",
    "real_path = []\n",
    "#print(controls.size())\n",
    "for T in range(TMAX):\n",
    "    print(\"T=\")\n",
    "    print(T)\n",
    "\n",
    "    if T>0:\n",
    "        start = start_\n",
    "        \n",
    "        _controls = controls_.data.clone()\n",
    "    mpc = MPC(process_model.forward,evaluate_,len_horizon,waypoints)\n",
    "    \n",
    "    controls_dt,path = mpc.run(state0,_controls,vs,dt,start)\n",
    "    controls = controls_dt[:,:-1]\n",
    "    print(state0.size(),controls_dt[0].size())\n",
    "    state_real = real_car_model.forward(state0,controls_dt[0])\n",
    "    real_path.append(state_real)\n",
    "    #break\n",
    "    #print(path[0],state_real)\n",
    "    #path_ = path[step:]\n",
    "    controls_ = _controls.data.clone()\n",
    "    controls_[:-(step+1)] = _controls[step+1:]\n",
    "    controls_[-(step+1):]=0\n",
    "    start_ = search_(state_real,waypoints,start)\n",
    "    \n",
    "    state0 = state_real.data.clone()\n",
    "    \n",
    "#print(path[0].data.numpy())\n",
    "#print(state_real.data.numpy())\n",
    "x_ = path[:,0].data.numpy()\n",
    "y_ = path[:,1].data.numpy()\n",
    "    \n",
    "plt.scatter(x_,y_,c='b',s=20)\n",
    "plt.scatter(cx,cy,c='r',s=1)"
   ]
  },
  {
   "cell_type": "code",
   "execution_count": 48,
   "metadata": {},
   "outputs": [
    {
     "name": "stdout",
     "output_type": "stream",
     "text": [
      "torch.Size([20, 6])\n"
     ]
    },
    {
     "data": {
      "text/plain": [
       "<matplotlib.collections.PathCollection at 0x7f0f968ed0b8>"
      ]
     },
     "execution_count": 48,
     "metadata": {},
     "output_type": "execute_result"
    },
    {
     "data": {
      "image/png": "[encoded data removed]",
      "text/plain": [
       "<Figure size 432x288 with 1 Axes>"
      ]
     },
     "metadata": {
      "needs_background": "light"
     },
     "output_type": "display_data"
    }
   ],
   "source": [
    "real_path_ = torch.cat(real_path,dim=0).view(-1,6)\n",
    "\n",
    "print(real_path_.size())\n",
    "x_ = real_path_[:,0].data.numpy()\n",
    "y_ = real_path_[:,1].data.numpy()\n",
    "    \n",
    "plt.scatter(x_,y_,c='b',s=20)\n",
    "plt.scatter(cx,cy,c='r',s=1)"
   ]
  },
  {
   "cell_type": "code",
   "execution_count": null,
   "metadata": {},
   "outputs": [],
   "source": [
    "x_ = path[:,0].data.numpy()\n",
    "y_ = path[:,1].data.numpy()\n",
    "    \n",
    "plt.scatter(x_,y_,c='b',s=20)\n",
    "plt.scatter(cx,cy,c='r',s=1)"
   ]
  },
  {
   "cell_type": "code",
   "execution_count": null,
   "metadata": {},
   "outputs": [],
   "source": [
    "plt.scatter(x_,y_,c='b',s=40)\n",
    "plt.scatter(cx,cy,c='r',s=1)\n",
    "wx,wy = cx[vs+start].data.cpu().numpy(),cy[vs+start].data.cpu().numpy()\n",
    "wx,wy=s0[:,0],s0[:,1]\n",
    "plt.scatter(wx,wy,c='k',s=40)"
   ]
  },
  {
   "cell_type": "code",
   "execution_count": 3,
   "metadata": {},
   "outputs": [],
   "source": [
    "ql=1.\n",
    "qc=1.\n",
    "def evaluate_(path,refs,vs):\n",
    "    #print(path.size(),refs.size())\n",
    "    return error_deviation_parallel_(path,refs,ql,qc)"
   ]
  },
  {
   "cell_type": "code",
   "execution_count": 8,
   "metadata": {},
   "outputs": [],
   "source": [
    "learning_rate=0.01\n",
    "\n",
    "class MPC:\n",
    "    def __init__(self,model,evaluate,len_horizon,waypoints):\n",
    "\n",
    "        self.waypoints = waypoints\n",
    "        self.len_horizon = len_horizon\n",
    "        self.model = model\n",
    "        self.evaluate = evaluate\n",
    "\n",
    "        \n",
    "    def run(self,state_init,controls_init,vs,dt,start):\n",
    "        start = torch.LongTensor([start])\n",
    "        state_init = state_init.data.clone()\n",
    "        controls = torch.nn.Parameter(controls_init.data.clone())\n",
    "        vs = torch.LongTensor(vs.data.clone())\n",
    "        if len(dt)==1:\n",
    "            dt = torch.ones(self.len_horizon).view(-1,1)*dt\n",
    "        opt =  torch.optim.Adam([controls],lr=learning_rate)\n",
    "        refs = waypoints[vs[1:]+start]\n",
    "        '''\n",
    "        print(\"start\")\n",
    "        print(start)\n",
    "        print(state_init)\n",
    "        print(controls)\n",
    "        print(vs)\n",
    "        print(dt)\n",
    "        \n",
    "        print(refs)\n",
    "        '''\n",
    "        for epoch in range(EMAX):\n",
    "            controls_dt = torch.cat([controls,dt],dim=1)\n",
    "            state  = state_init\n",
    "            path = []\n",
    "            for t in range(len_horizon):\n",
    "                state = self.model(state,controls_dt[t])\n",
    "                path.append(state.view(1,-1))\n",
    "            path = torch.cat(path,dim=0)\n",
    "     \n",
    "            opt.zero_grad()\n",
    "            \n",
    "            loss = self.evaluate(path,refs,vs) \n",
    "            loss.backward()\n",
    "            opt.step()\n",
    "            if epoch % 500 ==0:\n",
    "                print(loss.data.numpy())\n",
    "        controls_dt = torch.cat([controls,dt],dim=1)\n",
    "        return controls_dt,path    "
   ]
  },
  {
   "cell_type": "code",
   "execution_count": null,
   "metadata": {},
   "outputs": [],
   "source": []
  },
  {
   "cell_type": "code",
   "execution_count": null,
   "metadata": {},
   "outputs": [],
   "source": []
  }
 ],
 "metadata": {
  "kernelspec": {
   "display_name": "Python 3",
   "language": "python",
   "name": "python3"
  },
  "language_info": {
   "codemirror_mode": {
    "name": "ipython",
    "version": 3
   },
   "file_extension": ".py",
   "mimetype": "text/x-python",
   "name": "python",
   "nbconvert_exporter": "python",
   "pygments_lexer": "ipython3",
   "version": "3.6.8"
  }
 },
 "nbformat": 4,
 "nbformat_minor": 4
}
