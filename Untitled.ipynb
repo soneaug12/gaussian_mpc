{
 "cells": [
  {
   "cell_type": "code",
   "execution_count": 76,
   "metadata": {},
   "outputs": [
    {
     "ename": "ImportError",
     "evalue": "cannot import name 'error_deviation_parallel_'",
     "output_type": "error",
     "traceback": [
      "\u001b[0;31m---------------------------------------------------------------------------\u001b[0m",
      "\u001b[0;31mImportError\u001b[0m                               Traceback (most recent call last)",
      "\u001b[0;32m<ipython-input-76-fa4cd984092c>\u001b[0m in \u001b[0;36m<module>\u001b[0;34m\u001b[0m\n\u001b[1;32m      1\u001b[0m \u001b[0;32mimport\u001b[0m \u001b[0mimp\u001b[0m\u001b[0;34m\u001b[0m\u001b[0;34m\u001b[0m\u001b[0m\n\u001b[0;32m----> 2\u001b[0;31m \u001b[0;32mfrom\u001b[0m \u001b[0mevals\u001b[0m \u001b[0;32mimport\u001b[0m \u001b[0merror_deviation_parallel_\u001b[0m\u001b[0;34m\u001b[0m\u001b[0;34m\u001b[0m\u001b[0m\n\u001b[0m",
      "\u001b[0;31mImportError\u001b[0m: cannot import name 'error_deviation_parallel_'"
     ]
    }
   ],
   "source": []
  },
  {
   "cell_type": "code",
   "execution_count": 1,
   "metadata": {},
   "outputs": [],
   "source": [
    "import torch\n",
    "import torch.nn as nn\n",
    "from evals import *\n",
    "from optimization import *\n",
    "from gauss_update import *\n",
    "from kinetic_model import *\n",
    "import cubic_spline_planner"
   ]
  },
  {
   "cell_type": "code",
   "execution_count": 186,
   "metadata": {},
   "outputs": [
    {
     "data": {
      "text/plain": [
       "<matplotlib.collections.PathCollection at 0x7f69f3bb8710>"
      ]
     },
     "execution_count": 186,
     "metadata": {},
     "output_type": "execute_result"
    },
    {
     "data": {
      "image/png": "[encoded data removed]",
      "text/plain": [
       "<Figure size 432x288 with 1 Axes>"
      ]
     },
     "metadata": {
      "needs_background": "light"
     },
     "output_type": "display_data"
    }
   ],
   "source": [
    "import matplotlib.pyplot as plt\n",
    "import numpy as np\n",
    "\n",
    "ax = [0.0, 6.0, 12.5, 10.0, 7.5, 3.0, -1.0]\n",
    "ay = [0.0, -3.0, -5.0, 6.5, 3.0, 5.0, -2.0]\n",
    "goal = [ax[-1], ay[-1]]\n",
    "\n",
    "cx, cy, cyaw, ck, s = cubic_spline_planner.calc_spline_course(\n",
    "        ax, ay, ds=0.2)\n",
    "\n",
    "plt.scatter(cx,cy)\n",
    "plt.scatter(ax,ay,c='r')\n",
    "\n",
    "\n"
   ]
  },
  {
   "cell_type": "code",
   "execution_count": 21,
   "metadata": {},
   "outputs": [
    {
     "name": "stderr",
     "output_type": "stream",
     "text": [
      "/home/shibata/.local/lib/python3.6/site-packages/ipykernel_launcher.py:1: UserWarning: torch.range is deprecated in favor of torch.arange and will be removed in 0.5. Note that arange generates values in [start; end), not [start; end].\n",
      "  \"\"\"Entry point for launching an IPython kernel.\n"
     ]
    },
    {
     "data": {
      "text/plain": [
       "tensor([1., 2., 3., 4.])"
      ]
     },
     "execution_count": 21,
     "metadata": {},
     "output_type": "execute_result"
    }
   ],
   "source": []
  },
  {
   "cell_type": "code",
   "execution_count": 170,
   "metadata": {},
   "outputs": [],
   "source": [
    "class deviation_error_(torch.autograd.Function):\n",
    "    \n",
    "    @staticmethod\n",
    "    def forward(ctx,states,vs,waypoints,start):\n",
    "        states = states.data.clone()\n",
    "        states.requires_grad = True\n",
    "        \n",
    "        _range = torch.range(0,len(states)-1).view(-1,1)\n",
    "        range_ = _range.t()\n",
    "        mask = (_range<=range_).float()\n",
    "        \n",
    "        inds = (mask.t()@vs.view(-1,1)).view(-1).round().long()+start\n",
    "        #print(inds)\n",
    "        \n",
    "        #inds = vs.round().long()\n",
    "        \n",
    "        dw = waypoints[inds+1]-waypoints[inds]\n",
    "        #print(dw)\n",
    "        refs = waypoints[inds].data.clone().requires_grad_()\n",
    "        with torch.enable_grad():\n",
    "            error = error_deviation_parallel_(states,refs,inds,ql,qc)\n",
    "            de_s,de_w = torch.autograd.grad(error,[states]+[refs],grad_outputs=None,retain_graph=False,create_graph=False)\n",
    " \n",
    "        ctx.save_for_backward(states.data.clone(),vs.data.clone(),waypoints,de_s.data.clone(),de_w.data.clone(),dw.data.clone())\n",
    "        \n",
    "        return error\n",
    "    \n",
    "    @staticmethod\n",
    "    def backward(ctx,de):\n",
    "        states,vs,waypoints,de_s,de_w,dw = ctx.saved_tensors\n",
    "         \n",
    "        de_theta = (de_w@dw.t()).diag().view(-1,1)\n",
    "        _range = torch.range(0,len(states)-1).view(-1,1)\n",
    "        range_ = _range.t()\n",
    "        mask = (_range<=range_).float()\n",
    "        \n",
    "        \n",
    "        #print(mask)\n",
    "        de_v = (mask@de_theta).view(-1)\n",
    "        #print(de_v)\n",
    "        return de_s,de_v,None,None"
   ]
  },
  {
   "cell_type": "code",
   "execution_count": 195,
   "metadata": {},
   "outputs": [],
   "source": [
    "cx = torch.Tensor(cx).view(-1,1)\n",
    "cy = torch.Tensor(cy).view(-1,1)\n",
    "\n",
    "gx = cx[1:]-cx[:-1]\n",
    "gy = cy[1:]-cy[:-1]\n",
    "\n",
    "\n",
    "waypoints = torch.cat([cx[:-1],cy[:-1],gx,gy],dim=1)\n",
    "\n",
    "start=150\n",
    "\n",
    "x0,y0,gx0,gy0 = waypoints[start]\n",
    "v0 = torch.sqrt(gx0.pow(2)+gy0.pow(2))\n",
    "yaw0 = torch.atan2(gy0,gx0)\n",
    "delta0=torch.zeros(1)\n",
    "a0=torch.zeros(1)\n",
    "state0 = torch.cat(  [x0.view(1),y0.view(1),yaw0.view(1),v0.view(1),delta0,a0])\n",
    "control0 = torch.Tensor([0.0001,0.0001,0.001])"
   ]
  },
  {
   "cell_type": "code",
   "execution_count": 201,
   "metadata": {},
   "outputs": [
    {
     "name": "stdout",
     "output_type": "stream",
     "text": [
      "Parameter containing:\n",
      "tensor([1., 1., 1., 1., 1., 1., 1., 1., 1., 1.], requires_grad=True)\n",
      "-10.929587\n"
     ]
    },
    {
     "name": "stderr",
     "output_type": "stream",
     "text": [
      "/home/shibata/.local/lib/python3.6/site-packages/ipykernel_launcher.py:8: UserWarning: torch.range is deprecated in favor of torch.arange and will be removed in 0.5. Note that arange generates values in [start; end), not [start; end].\n",
      "  \n",
      "/home/shibata/.local/lib/python3.6/site-packages/ipykernel_launcher.py:33: UserWarning: torch.range is deprecated in favor of torch.arange and will be removed in 0.5. Note that arange generates values in [start; end), not [start; end].\n"
     ]
    },
    {
     "name": "stdout",
     "output_type": "stream",
     "text": [
      "-12.050216\n",
      "-13.188462\n",
      "-14.291332\n",
      "-15.395675\n",
      "-16.490547\n",
      "-17.596819\n",
      "-18.693993\n",
      "-19.795969\n",
      "-20.882559\n",
      "-21.992065\n",
      "-23.095366\n",
      "-24.182903\n",
      "-25.279001\n",
      "-26.375818\n",
      "-27.47953\n",
      "-28.568724\n",
      "-29.663158\n",
      "-30.755854\n",
      "-31.82947\n",
      "-32.93611\n",
      "-34.040745\n",
      "-35.11331\n",
      "-36.19945\n",
      "-37.29296\n",
      "-38.39764\n",
      "-39.47239\n",
      "-40.56581\n",
      "-41.64645\n",
      "-42.711544\n"
     ]
    },
    {
     "data": {
      "text/plain": [
       "<matplotlib.collections.PathCollection at 0x7f69e1bd9ef0>"
      ]
     },
     "execution_count": 201,
     "metadata": {},
     "output_type": "execute_result"
    },
    {
     "data": {
      "image/png": "[encoded data removed]",
      "text/plain": [
       "<Figure size 432x288 with 1 Axes>"
      ]
     },
     "metadata": {
      "needs_background": "light"
     },
     "output_type": "display_data"
    }
   ],
   "source": [
    "len_horizon = 10\n",
    "EMAX=3000\n",
    "kappa=1.1\n",
    "_controls = torch.nn.Parameter(torch.zeros(len_horizon,2))\n",
    "dt = torch.ones(len_horizon,1)\n",
    "\n",
    "vs = torch.nn.Parameter(torch.ones(len_horizon))\n",
    "print(vs)\n",
    "opt = torch.optim.Adam([vs]+[_controls],lr=0.001)\n",
    "#print(controls.size())\n",
    "for epoch in range(EMAX):\n",
    "    controls = torch.cat([_controls,dt],dim=1)\n",
    "    s=state0\n",
    "    s_=[]\n",
    "    for t in range(len_horizon):\n",
    "        s = model(s,controls[t])\n",
    "        s_.append(s.view(1,-1))\n",
    "    s_ = torch.cat(s_,dim=0)\n",
    "    if epoch==0:\n",
    "        s0_ = s_.data.clone()\n",
    "    dev = deviation_error_.apply\n",
    "    dev_loss = dev(s_,vs,waypoints,start)-kappa*vs.sum()\n",
    "    if epoch % 100 ==0:\n",
    "        print(dev_loss.data.numpy())\n",
    "    opt.zero_grad()\n",
    "    dev_loss.backward()\n",
    "    opt.step()\n",
    "x_ = s_[:,0].data.numpy()\n",
    "y_ = s_[:,1].data.numpy()\n",
    "    \n",
    "plt.scatter(x_,y_,c='b',s=20)\n",
    "plt.scatter(cx,cy,c='r',s=1)\n"
   ]
  },
  {
   "cell_type": "code",
   "execution_count": 194,
   "metadata": {},
   "outputs": [
    {
     "name": "stderr",
     "output_type": "stream",
     "text": [
      "/home/shibata/.local/lib/python3.6/site-packages/ipykernel_launcher.py:1: UserWarning: torch.range is deprecated in favor of torch.arange and will be removed in 0.5. Note that arange generates values in [start; end), not [start; end].\n",
      "  \"\"\"Entry point for launching an IPython kernel.\n"
     ]
    },
    {
     "data": {
      "text/plain": [
       "(tensor([[ 0.1641, -0.0747,  0.1641, -0.0748],\n",
       "         [ 0.3282, -0.1496,  0.1643, -0.0750],\n",
       "         [ 0.4925, -0.2245,  0.1645, -0.0752],\n",
       "         [ 0.6570, -0.2998,  0.1648, -0.0755],\n",
       "         [ 0.8218, -0.3753,  0.1652, -0.0759],\n",
       "         [ 1.1528, -0.5276,  0.1663, -0.0769],\n",
       "         [ 1.3191, -0.6045,  0.1669, -0.0776],\n",
       "         [ 1.4860, -0.6821,  0.1676, -0.0783],\n",
       "         [ 1.6536, -0.7604,  0.1684, -0.0791],\n",
       "         [ 1.8220, -0.8394,  0.1693, -0.0799]]),\n",
       " tensor([ 1,  2,  3,  4,  5,  7,  8,  9, 10, 11]))"
      ]
     },
     "execution_count": 194,
     "metadata": {},
     "output_type": "execute_result"
    }
   ],
   "source": [
    "_range = torch.range(0,len_horizon -1).view(-1,1)\n",
    "range_ = _range.t()\n",
    "mask = (_range<=range_).float()\n",
    "inds = (mask.t()@vs.view(-1,1)).view(-1).round().long()\n",
    "waypoints[inds],inds"
   ]
  },
  {
   "cell_type": "code",
   "execution_count": 151,
   "metadata": {},
   "outputs": [
    {
     "data": {
      "text/plain": [
       "tensor([[ 0.0082, -0.0037],\n",
       "        [ 0.0164, -0.0075],\n",
       "        [ 0.0290, -0.0132],\n",
       "        [ 0.0480, -0.0219],\n",
       "        [ 0.0736, -0.0335],\n",
       "        [ 0.1047, -0.0477],\n",
       "        [ 0.1393, -0.0635],\n",
       "        [ 0.1756, -0.0800],\n",
       "        [ 0.2114, -0.0964],\n",
       "        [ 0.2454, -0.1119],\n",
       "        [ 0.2767, -0.1261],\n",
       "        [ 0.3048, -0.1389],\n",
       "        [ 0.3301, -0.1504],\n",
       "        [ 0.3531, -0.1609],\n",
       "        [ 0.3749, -0.1708],\n",
       "        [ 0.3962, -0.1805],\n",
       "        [ 0.4179, -0.1904],\n",
       "        [ 0.4406, -0.2008],\n",
       "        [ 0.4644, -0.2116],\n",
       "        [ 0.4893, -0.2229],\n",
       "        [ 0.5148, -0.2346],\n",
       "        [ 0.5406, -0.2463],\n",
       "        [ 0.5661, -0.2580],\n",
       "        [ 0.5911, -0.2694],\n",
       "        [ 0.6154, -0.2806],\n",
       "        [ 0.6395, -0.2916],\n",
       "        [ 0.6639, -0.3028],\n",
       "        [ 0.6890, -0.3145],\n",
       "        [ 0.7152, -0.3266],\n",
       "        [ 0.7419, -0.3391]], grad_fn=<SliceBackward>)"
      ]
     },
     "execution_count": 151,
     "metadata": {},
     "output_type": "execute_result"
    }
   ],
   "source": [
    "s_[:,:2]"
   ]
  },
  {
   "cell_type": "code",
   "execution_count": 152,
   "metadata": {},
   "outputs": [
    {
     "data": {
      "text/plain": [
       "tensor([-0.0100, -0.0100, -0.0100, -0.0100, -0.0100, -0.0100, -0.0100, -0.0100,\n",
       "        -0.0100, -0.0100, -0.0100, -0.0100, -0.0100, -0.0100, -0.0100, -0.0100,\n",
       "        -0.0100, -0.0100, -0.0100, -0.0100, -0.0100, -0.0100, -0.0100, -0.0100,\n",
       "        -0.0100, -0.0100, -0.0100, -0.0100, -0.0100, -0.0100])"
      ]
     },
     "execution_count": 152,
     "metadata": {},
     "output_type": "execute_result"
    }
   ],
   "source": [
    "vs.grad.data"
   ]
  },
  {
   "cell_type": "code",
   "execution_count": 153,
   "metadata": {},
   "outputs": [
    {
     "data": {
      "text/plain": [
       "tensor([[ 4.8420e-03, -1.6017e-03,  1.0000e+00],\n",
       "        [ 2.2006e-03, -1.8143e-03,  1.0000e+00],\n",
       "        [ 1.7457e-04, -1.6154e-03,  1.0000e+00],\n",
       "        [-1.2191e-03, -9.0147e-04,  1.0000e+00],\n",
       "        [-2.0107e-03,  1.9989e-04,  1.0000e+00],\n",
       "        [-2.2724e-03,  1.4269e-03,  1.0000e+00],\n",
       "        [-2.1092e-03,  2.4880e-03,  1.0000e+00],\n",
       "        [-1.6465e-03,  3.1482e-03,  1.0000e+00],\n",
       "        [-1.0166e-03,  3.2792e-03,  1.0000e+00],\n",
       "        [-3.4575e-04,  2.8681e-03,  1.0000e+00],\n",
       "        [ 2.5771e-04,  1.9935e-03,  1.0000e+00],\n",
       "        [ 7.1262e-04,  7.8452e-04,  1.0000e+00],\n",
       "        [ 9.7079e-04, -6.1851e-04,  1.0000e+00],\n",
       "        [ 1.0191e-03, -2.0938e-03,  1.0000e+00],\n",
       "        [ 8.7789e-04, -3.5533e-03,  1.0000e+00],\n",
       "        [ 5.9526e-04, -4.9452e-03,  1.0000e+00],\n",
       "        [ 2.3907e-04, -6.2496e-03,  1.0000e+00],\n",
       "        [-1.1423e-04, -7.4679e-03,  1.0000e+00],\n",
       "        [-3.9109e-04, -8.6128e-03,  1.0000e+00],\n",
       "        [-5.3327e-04, -9.6970e-03,  1.0000e+00],\n",
       "        [-5.0977e-04, -1.0725e-02,  1.0000e+00],\n",
       "        [-3.2432e-04, -1.1684e-02,  1.0000e+00],\n",
       "        [-2.0402e-05, -1.2544e-02,  1.0000e+00],\n",
       "        [ 3.1820e-04, -1.3242e-02,  1.0000e+00],\n",
       "        [ 5.7935e-04, -1.3663e-02,  1.0000e+00],\n",
       "        [ 6.2266e-04, -1.3557e-02,  1.0000e+00],\n",
       "        [ 2.9922e-04, -1.2273e-02,  1.0000e+00],\n",
       "        [-5.3656e-04, -8.0451e-03,  1.0000e+00],\n",
       "        [ 0.0000e+00,  0.0000e+00,  1.0000e+00],\n",
       "        [ 0.0000e+00,  0.0000e+00,  1.0000e+00]], grad_fn=<CatBackward>)"
      ]
     },
     "execution_count": 153,
     "metadata": {},
     "output_type": "execute_result"
    }
   ],
   "source": [
    "controls"
   ]
  },
  {
   "cell_type": "code",
   "execution_count": 166,
   "metadata": {},
   "outputs": [
    {
     "data": {
      "text/plain": [
       "851"
      ]
     },
     "execution_count": 166,
     "metadata": {},
     "output_type": "execute_result"
    }
   ],
   "source": [
    "len(waypoints)"
   ]
  },
  {
   "cell_type": "code",
   "execution_count": 182,
   "metadata": {},
   "outputs": [
    {
     "data": {
      "text/plain": [
       "<matplotlib.collections.PathCollection at 0x7f69e866b9b0>"
      ]
     },
     "execution_count": 182,
     "metadata": {},
     "output_type": "execute_result"
    },
    {
     "data": {
      "image/png": "[encoded data removed]",
      "text/plain": [
       "<Figure size 432x288 with 1 Axes>"
      ]
     },
     "metadata": {
      "needs_background": "light"
     },
     "output_type": "display_data"
    }
   ],
   "source": [
    "x_ = s_[:,0].data.numpy()\n",
    "y_ = s_[:,1].data.numpy()\n",
    "import matplotlib.pyplot as plt\n",
    "plt.scatter(x_,y_,c='b',s=20)\n",
    "plt.scatter(cx,cy,c='r',s=1)"
   ]
  },
  {
   "cell_type": "code",
   "execution_count": null,
   "metadata": {},
   "outputs": [],
   "source": [
    "class mpc:\n",
    "    def __init__(self,model,evals,optimizer,len_horizon,waypoints):\n",
    "        self.model = model\n",
    "        self.evals = evals\n",
    "        self.optimizer = optimizer\n",
    "        self.len_horizon = len_horizon\n",
    "        self.waypoints = waypoints\n",
    "        \n",
    "    def \n",
    "\n",
    "\n"
   ]
  },
  {
   "cell_type": "code",
   "execution_count": 61,
   "metadata": {},
   "outputs": [],
   "source": [
    "class grad_test(torch.autograd.Function):\n",
    "    \n",
    "    @staticmethod\n",
    "    def forward(ctx,x):\n",
    "        ctx.save_for_backward(x)\n",
    "        return x*x\n",
    "    \n",
    "    @staticmethod\n",
    "    def backward(ctx,de):\n",
    "        x = ctx.saved_tensors[0]\n",
    "        print(x)\n",
    "        return 2*x"
   ]
  },
  {
   "cell_type": "code",
   "execution_count": 63,
   "metadata": {},
   "outputs": [
    {
     "name": "stdout",
     "output_type": "stream",
     "text": [
      "tensor([25.], grad_fn=<grad_testBackward>)\n",
      "tensor([5.], requires_grad=True)\n"
     ]
    },
    {
     "data": {
      "text/plain": [
       "tensor([10.])"
      ]
     },
     "execution_count": 63,
     "metadata": {},
     "output_type": "execute_result"
    }
   ],
   "source": [
    "x=torch.Tensor([5.]).requires_grad_()\n",
    "g = grad_test.apply\n",
    "y = g(x)\n",
    "print(y)\n",
    "y.backward()\n",
    "x.grad.data"
   ]
  },
  {
   "cell_type": "code",
   "execution_count": 1,
   "metadata": {},
   "outputs": [],
   "source": [
    "def error_deviation_parallel(states,waypoints,indices,ql,qc):\n",
    "    x,y = states[:,0],states[:,1]\n",
    "    cx,cy,gx,gy = waypoints[indices,0],waypoints[indices,1],waypoints[indices,2],waypoints[indices,3]\n",
    "    el = -gx*(x-cx) - gy*(y-cy)\n",
    "    ec =  gy*(x-cx) - gx*(y-cy)\n",
    "    err = ql*el.pow(2).sum()+qc*ec.pow(2).sum()\n",
    "    return err"
   ]
  },
  {
   "cell_type": "code",
   "execution_count": 71,
   "metadata": {},
   "outputs": [],
   "source": [
    "def error_deviation_parallel_(states,refs,indices,ql,qc):\n",
    "    x,y = states[:,0],states[:,1]\n",
    "    cx,cy,gx,gy = refs[:,0],refs[:,1],refs[:,2],refs[:,3]\n",
    "    el = -gx*(x-cx) - gy*(y-cy)\n",
    "    ec =  gy*(x-cx) - gx*(y-cy)\n",
    "    err = ql*el.pow(2).sum()+qc*ec.pow(2).sum()\n",
    "    return err"
   ]
  },
  {
   "cell_type": "code",
   "execution_count": 1,
   "metadata": {},
   "outputs": [],
   "source": [
    "import torch\n",
    "\n",
    "ql=1\n",
    "qc=1\n",
    "\n",
    "class deviation_error(torch.autograd.Function):\n",
    "    \n",
    "    @staticmethod\n",
    "    def forward(ctx,states,vs,waypoints):\n",
    "        states = states.data.clone()\n",
    "        states.requires_grad = True\n",
    "        \n",
    "        inds = vs.round().long()\n",
    "        \n",
    "        dw = waypoints[inds+1]-waypoints[inds]\n",
    "        \n",
    "        refs = waypoints[inds].data.clone().requires_grad_()\n",
    "        with torch.enable_grad():\n",
    "            error = error_deviation_parallel_(states,refs,inds,ql,qc)\n",
    "            de_s,de_w = torch.autograd.grad(error,[states]+[refs],grad_outputs=None,retain_graph=False,create_graph=False)\n",
    " \n",
    "        ctx.save_for_backward(states.data.clone(),vs.data.clone(),waypoints,de_s.data.clone(),de_w.data.clone(),dw.data.clone())\n",
    "        \n",
    "        return error\n",
    "    \n",
    "    @staticmethod\n",
    "    def backward(ctx,de):\n",
    "        states,vs,waypoints,de_s,de_w,dw = ctx.saved_tensors\n",
    "          \n",
    "        de_theta = (de_w@dw.t()).diag().view(-1,1)\n",
    "        \n",
    "        _range = torch.range(0,len(states)-1).view(-1,1)\n",
    "        range_ = _range.t()\n",
    "        mask = (_range<=range_).float()\n",
    "        de_v = (mask@de_theta).view(-1)\n",
    "   \n",
    "        \n",
    "        return de_s,de_v,None"
   ]
  },
  {
   "cell_type": "code",
   "execution_count": null,
   "metadata": {},
   "outputs": [],
   "source": []
  },
  {
   "cell_type": "code",
   "execution_count": 118,
   "metadata": {},
   "outputs": [],
   "source": [
    "import torch\n",
    "\n",
    "ql=1\n",
    "qc=1\n",
    "\n",
    "class deviation_error(torch.autograd.Function):\n",
    "    \n",
    "    @staticmethod\n",
    "    def forward(ctx,states,vs,waypoints):\n",
    "        states = states.data.clone()\n",
    "        states.requires_grad = True\n",
    "        \n",
    "        inds = vs.round().long()\n",
    "        \n",
    "        dw = waypoints[inds+1]-waypoints[inds]\n",
    "        print(states.size())\n",
    "       \n",
    "        with torch.enable_grad():\n",
    "            error = error_deviation_parallel(states,waypoints,inds,ql,qc)\n",
    "            de_s = torch.autograd.grad(error,states,grad_outputs=None,retain_graph=False,create_graph=False)[0]\n",
    "        print(de_s.size(),states.size())\n",
    "              \n",
    "        de_w = -de_s\n",
    "        ctx.save_for_backward(states.data.clone(),vs.data.clone(),waypoints,de_s.data.clone(),de_w.data.clone(),dw.data.clone())\n",
    "        print(states,vs.size(),waypoints.size(),de_s.size(),de_w.size(),dw.size())\n",
    "        \n",
    "        return error\n",
    "    \n",
    "    @staticmethod\n",
    "    def backward(ctx,de):\n",
    "        states,vs,waypoints,de_s,de_w,dw = ctx.saved_tensors\n",
    "        de_w = torch.zeros(len(vs),waypoints.size()[1])\n",
    "        \n",
    "        de_w[:,:2] = -de_s[:,:2]\n",
    "        \n",
    "        de_theta = (de_w@dw.t()).diag().view(-1,1)\n",
    "        \n",
    "        _range = torch.range(0,len(states)-1).view(-1,1)\n",
    "        range_ = _range.t()\n",
    "        mask = (_range<=range_).float()\n",
    "        de_v = (mask@de_theta).view(-1)\n",
    "        print(\"########\")\n",
    "        print(de_s)\n",
    "        print(\"########\")\n",
    "        print(de_w)\n",
    "        print(\"########\")\n",
    "        print(de_v)\n",
    "        print(\"########\")\n",
    "        \n",
    "        return de_s,de_v,None\n"
   ]
  },
  {
   "cell_type": "code",
   "execution_count": null,
   "metadata": {},
   "outputs": [],
   "source": []
  },
  {
   "cell_type": "code",
   "execution_count": 120,
   "metadata": {},
   "outputs": [
    {
     "name": "stdout",
     "output_type": "stream",
     "text": [
      "torch.Size([101, 4])\n",
      "tensor([[1., 1., 1.],\n",
      "        [1., 1., 1.],\n",
      "        [1., 1., 1.],\n",
      "        [1., 1., 1.],\n",
      "        [1., 1., 1.]], requires_grad=True) torch.Size([5]) torch.Size([101, 4]) torch.Size([5, 3]) torch.Size([5, 4]) torch.Size([5, 4])\n",
      "tensor(58796.7930, grad_fn=<deviation_errorBackward>)\n",
      "########\n",
      "tensor([[-3.1360e+00, -3.1360e+00,  0.0000e+00],\n",
      "        [-3.2256e+01, -3.2256e+01,  0.0000e+00],\n",
      "        [-1.1098e+02, -1.1098e+02,  0.0000e+00],\n",
      "        [-5.1322e+02, -5.1322e+02,  0.0000e+00],\n",
      "        [-5.4063e+03, -5.4063e+03,  0.0000e+00]])\n",
      "########\n",
      "tensor([[3.1360e+00, 3.1360e+00, 8.9600e-01, 8.9600e-01],\n",
      "        [3.2256e+01, 3.2256e+01, 1.8816e+01, 1.8816e+01],\n",
      "        [1.1098e+02, 1.1098e+02, 7.8336e+01, 7.8336e+01],\n",
      "        [5.1322e+02, 5.1322e+02, 4.1818e+02, 4.1818e+02],\n",
      "        [5.4063e+03, 5.4063e+03, 4.9321e+03, 4.9321e+03]])\n",
      "########\n",
      "tensor([23028.4785, 23020.4141, 22918.2695, 22539.6445, 20676.8613])\n",
      "########\n",
      "tensor([23028.4785, 23020.4141, 22918.2695, 22539.6445, 20676.8613]) tensor([[-3.1360e+00, -3.1360e+00,  0.0000e+00],\n",
      "        [-3.2256e+01, -3.2256e+01,  0.0000e+00],\n",
      "        [-1.1098e+02, -1.1098e+02,  0.0000e+00],\n",
      "        [-5.1322e+02, -5.1322e+02,  0.0000e+00],\n",
      "        [-5.4063e+03, -5.4063e+03,  0.0000e+00]])\n"
     ]
    },
    {
     "name": "stderr",
     "output_type": "stream",
     "text": [
      "/home/shibata/.local/lib/python3.6/site-packages/ipykernel_launcher.py:7: UserWarning: torch.range is deprecated in favor of torch.arange and will be removed in 0.5. Note that arange generates values in [start; end), not [start; end].\n",
      "  import sys\n",
      "/home/shibata/.local/lib/python3.6/site-packages/ipykernel_launcher.py:36: UserWarning: torch.range is deprecated in favor of torch.arange and will be removed in 0.5. Note that arange generates values in [start; end), not [start; end].\n",
      "/home/shibata/.local/lib/python3.6/site-packages/ipykernel_launcher.py:17: UserWarning: torch.range is deprecated in favor of torch.arange and will be removed in 0.5. Note that arange generates values in [start; end), not [start; end].\n"
     ]
    },
    {
     "data": {
      "text/plain": [
       "tensor([[1., 1., 1., 1., 1., 1.],\n",
       "        [0., 1., 1., 1., 1., 1.],\n",
       "        [0., 0., 1., 1., 1., 1.],\n",
       "        [0., 0., 0., 1., 1., 1.],\n",
       "        [0., 0., 0., 0., 1., 1.],\n",
       "        [0., 0., 0., 0., 0., 1.]])"
      ]
     },
     "execution_count": 120,
     "metadata": {},
     "output_type": "execute_result"
    }
   ],
   "source": [
    "states=torch.ones(5,3).requires_grad_()\n",
    "vs = torch.Tensor([1.1,2.1,3.3,4.7,10.7]).requires_grad_()\n",
    "\n",
    "\n",
    "opt = torch.optim.Adam([states]+[vs],lr=0.1)\n",
    "\n",
    "waypoints = (torch.range(0,100)+0.4).view(-1,1).repeat(1,4)\n",
    "print( waypoints.size() )\n",
    "\n",
    "de = deviation_error.apply\n",
    "err = de(states,vs,waypoints)\n",
    "print(err)\n",
    "opt.zero_grad()\n",
    "err.backward()\n",
    "print(vs.grad.data,states.grad.data)\n",
    "\n",
    "_range = torch.range(0,len(states)).view(-1,1)\n",
    "range_ = _range.t()\n",
    "mask = (_range<=range_).float()\n",
    "mask"
   ]
  },
  {
   "cell_type": "code",
   "execution_count": 84,
   "metadata": {},
   "outputs": [
    {
     "name": "stderr",
     "output_type": "stream",
     "text": [
      "/home/shibata/.local/lib/python3.6/site-packages/ipykernel_launcher.py:1: UserWarning: torch.range is deprecated in favor of torch.arange and will be removed in 0.5. Note that arange generates values in [start; end), not [start; end].\n",
      "  \"\"\"Entry point for launching an IPython kernel.\n"
     ]
    },
    {
     "data": {
      "text/plain": [
       "tensor([[0.],\n",
       "        [1.],\n",
       "        [2.],\n",
       "        [3.],\n",
       "        [4.],\n",
       "        [5.]])"
      ]
     },
     "execution_count": 84,
     "metadata": {},
     "output_type": "execute_result"
    }
   ],
   "source": [
    "torch.range(0,5).view(-1,1)"
   ]
  },
  {
   "cell_type": "code",
   "execution_count": 23,
   "metadata": {},
   "outputs": [
    {
     "name": "stdout",
     "output_type": "stream",
     "text": [
      "tensor([[0., 0.],\n",
      "        [0., 0.],\n",
      "        [0., 0.],\n",
      "        [0., 0.],\n",
      "        [0., 0.],\n",
      "        [0., 0.],\n",
      "        [0., 0.],\n",
      "        [0., 0.],\n",
      "        [0., 0.],\n",
      "        [0., 0.]])\n"
     ]
    },
    {
     "data": {
      "text/plain": [
       "torch.Size([10, 3])"
      ]
     },
     "execution_count": 23,
     "metadata": {},
     "output_type": "execute_result"
    }
   ],
   "source": [
    "import torch\n",
    "import numpy as np\n",
    "states = torch.nn.Parameter(torch.ones(10,3))\n",
    "waypoints = torch.zeros(100,4)\n",
    "v= torch.Tensor(np.arange(10)).float()\n",
    "inds= v.round().long()\n",
    "\n",
    "#print(v)\n",
    "#print(v+1)\n",
    "#inds = [*range(10)]\n",
    "\n",
    "dw = waypoints[inds+1,:2]-waypoints[inds,:2]\n",
    "print(dw)\n",
    "error = error_deviation_parallel(states,waypoints,indices,ql=1,qc=1)\n",
    "\n",
    "\n",
    "de_s = torch.autograd.grad(error,states,grad_outputs=None,retain_graph=False,create_graph=False)\n",
    "de_s[0].size()"
   ]
  },
  {
   "cell_type": "code",
   "execution_count": 70,
   "metadata": {},
   "outputs": [
    {
     "name": "stdout",
     "output_type": "stream",
     "text": [
      "None\n",
      "tensor([0., 0., 0., 0., 0., 0., 0., 0., 0., 0., 0., 0., 0., 0., 0., 0., 0., 0., 0.])\n"
     ]
    }
   ],
   "source": [
    "\n",
    "loss = inds.sum()\n",
    "opt=torch.optim.SGD([vs],lr=0.1)\n",
    "opt.zero_grad()\n",
    "print(vs.grad)\n",
    "loss.backward()\n",
    "print(vs.grad)"
   ]
  },
  {
   "cell_type": "code",
   "execution_count": 69,
   "metadata": {},
   "outputs": [
    {
     "data": {
      "text/plain": [
       "tensor([ 1.,  2.,  3.,  4.,  5.,  6.,  7.,  8.,  9., 10., 11., 12., 13., 14.,\n",
       "        15., 16., 17., 18., 19.], grad_fn=<RoundBackward>)"
      ]
     },
     "execution_count": 69,
     "metadata": {},
     "output_type": "execute_result"
    }
   ],
   "source": [
    "waypoints[0]\n",
    "hl=20\n",
    "\n",
    "das = torch.nn.Parameter(torch.zeros(hl))\n",
    "dds = torch.nn.Parameter(torch.zeros(hl))\n",
    "\n",
    "controls = torch.nn.Parameter(torch.zeros(hl,3))\n",
    "controls[:,2]+=0.01\n",
    "\n",
    "vs = torch.nn.Parameter(torch.arange(1,hl).float()) \n",
    "inds = vs.round()\n",
    "state = torch.Tensor([ 0,0,-0.48,0.01,0.0,0.01 ])\n",
    "\n",
    "#_states=[state.view(1,-1)]\n",
    "_states = []\n",
    "\n",
    "for t in range(hl-1): \n",
    "    state = forward(state,controls[t])\n",
    "    _states.append(state.view(1,-1))\n",
    "\n",
    "\n",
    "states = torch.cat(_states,dim=0)\n",
    "\n",
    "states.size(),vs.size()\n",
    "inds"
   ]
  },
  {
   "cell_type": "code",
   "execution_count": 71,
   "metadata": {},
   "outputs": [],
   "source": [
    "def search_(state,waypoints,_indx):\n",
    "    x,y,_,_,_,_ = state\n",
    "    cx,cy = waypoints[:,0],waypoints[:,1]\n",
    "    dx = x-cx[_indx:_indx+L]\n",
    "    dy = y-cy[_indx:_indx+L]\n",
    "    d2 = dx.pow(2) + dy.pow(2)\n",
    "    indx = torch.argmin(d2) + _indx\n",
    "\n",
    "    return indx"
   ]
  },
  {
   "cell_type": "code",
   "execution_count": 39,
   "metadata": {},
   "outputs": [
    {
     "data": {
      "text/plain": [
       "tensor([ 0.0015, -0.0008, -0.4800,  0.0116,  0.0000,  0.0100],\n",
       "       grad_fn=<SelectBackward>)"
      ]
     },
     "execution_count": 39,
     "metadata": {},
     "output_type": "execute_result"
    }
   ],
   "source": [
    "states[16]"
   ]
  },
  {
   "cell_type": "code",
   "execution_count": 53,
   "metadata": {},
   "outputs": [
    {
     "data": {
      "text/plain": [
       "tensor([ 0,  1,  2,  3,  4,  6,  7,  8,  9, 10, 12, 13, 14, 15, 17, 18])"
      ]
     },
     "execution_count": 53,
     "metadata": {},
     "output_type": "execute_result"
    }
   ],
   "source": [
    "search_parallel(states[:16],waypoints,0)"
   ]
  },
  {
   "cell_type": "code",
   "execution_count": 52,
   "metadata": {},
   "outputs": [],
   "source": [
    "L=100\n",
    "def search_parallel(states,waypoints,_indx):\n",
    "    xs,ys = states[:,0].view(-1,1),states[:,1].view(-1,1)\n",
    "    cx,cy = waypoints[:,0].view(1,-1),waypoints[:,1].view(1,-1)\n",
    "    dx = xs - cx[:,_indx:_indx+L]\n",
    "    dy = ys - cy[:,_indx:_indx+L]\n",
    "    d2 = dx.pow(2) + dy.pow(2)\n",
    "    inds = torch.argmin(d2,dim=1) + _indx\n",
    "    return inds"
   ]
  },
  {
   "cell_type": "code",
   "execution_count": null,
   "metadata": {},
   "outputs": [],
   "source": []
  },
  {
   "cell_type": "code",
   "execution_count": 134,
   "metadata": {},
   "outputs": [],
   "source": []
  },
  {
   "cell_type": "code",
   "execution_count": 199,
   "metadata": {},
   "outputs": [
    {
     "data": {
      "text/plain": [
       "tensor([1.5403, 1.8415, 1.6230, 2.0000, 2.0000, 2.0000])"
      ]
     },
     "execution_count": 199,
     "metadata": {},
     "output_type": "execute_result"
    }
   ],
   "source": [
    "state=torch.Tensor([1,1,1,1,1,1])\n",
    "control=torch.Tensor([1,1,1])\n",
    "forward(state,control)\n"
   ]
  },
  {
   "cell_type": "code",
   "execution_count": 122,
   "metadata": {},
   "outputs": [
    {
     "data": {
      "text/plain": [
       "tensor([2., 2.])"
      ]
     },
     "execution_count": 122,
     "metadata": {},
     "output_type": "execute_result"
    }
   ],
   "source": [
    "d=torch.ones(2)\n",
    "torch.max(d,2*torch.ones_like(d))"
   ]
  },
  {
   "cell_type": "code",
   "execution_count": 195,
   "metadata": {},
   "outputs": [],
   "source": [
    "THRESHOLD = -0.01\n",
    "learning_rate = 0.001\n",
    "EMAX=100000\n",
    "\n",
    "class constrained_optimization:\n",
    "    def __init__(self,obj,cons,myu):\n",
    "        self.obj = obj\n",
    "        self.cons = cons\n",
    "        self.myu = myu\n",
    "    \n",
    "    def compute_penalty(self,x):\n",
    "        penalty = 0\n",
    "        for con in self.cons:\n",
    "            c = torch.max(con(x),THRESHOLD*torch.ones_like(con(x)))\n",
    "            #if c>THRESHOLD:\n",
    "            penalty += torch.log(-c).sum()\n",
    "        return penalty\n",
    "    \n",
    "    def compute_cost(self,x):\n",
    "        cost = self.obj(x) - self.myu*self.compute_penalty(x)\n",
    "        return cost\n",
    "    \n",
    "    def judge_bleaching(self,x):\n",
    "        judge = torch.prod(torch.cat([torch.prod(c(x)<=0).view(1) for c in self.cons]) )\n",
    "        return judge\n",
    "\n",
    "    def run(self,x0):\n",
    "        c=0\n",
    "        x = torch.nn.Parameter(x0)\n",
    "        opt=torch.optim.Adam([x],lr=learning_rate)\n",
    "        _x = x.data.clone()\n",
    "        for epoch in range(EMAX):\n",
    "       \n",
    "            cost = self.compute_cost(x)\n",
    "            opt.zero_grad()\n",
    "            cost.backward()\n",
    "            opt.step()\n",
    "            \n",
    "            if self.judge_bleaching(x):\n",
    "                _x = x.data.clone()\n",
    "            else:\n",
    "                return _x\n",
    "        return x"
   ]
  },
  {
   "cell_type": "code",
   "execution_count": 103,
   "metadata": {},
   "outputs": [],
   "source": [
    "def objective(x):\n",
    "    return x.pow(2).sum()"
   ]
  },
  {
   "cell_type": "code",
   "execution_count": 184,
   "metadata": {},
   "outputs": [],
   "source": [
    "def const1(x):\n",
    "    return x-5\n",
    "def const2(x):\n",
    "    return (x-1).pow(2).sum()-1"
   ]
  },
  {
   "cell_type": "code",
   "execution_count": 185,
   "metadata": {},
   "outputs": [],
   "source": [
    "co = constrained_optimization(objective,[const2],myu=0.0001)\n",
    "x0 = torch.FloatTensor([1.2,1.2])\n",
    "x=co.run(x0)"
   ]
  },
  {
   "cell_type": "code",
   "execution_count": 194,
   "metadata": {},
   "outputs": [
    {
     "data": {
      "text/plain": [
       "tensor(0.0284)"
      ]
     },
     "execution_count": 194,
     "metadata": {},
     "output_type": "execute_result"
    }
   ],
   "source": [
    "#x=torch.Tensor([0,0])\n",
    "(x-1).pow(2).sum()-1\n",
    "(x-1.01).pow(2).sum()-1\n"
   ]
  },
  {
   "cell_type": "code",
   "execution_count": 170,
   "metadata": {},
   "outputs": [
    {
     "data": {
      "text/plain": [
       "tensor([-4.2231, -4.2231])"
      ]
     },
     "execution_count": 170,
     "metadata": {},
     "output_type": "execute_result"
    }
   ],
   "source": [
    "x-5"
   ]
  },
  {
   "cell_type": "code",
   "execution_count": 90,
   "metadata": {},
   "outputs": [],
   "source": [
    "m=1500\n",
    "I=2500\n",
    "lf=1.1\n",
    "lr=1.6\n",
    "Kf=55\n",
    "Kr=60"
   ]
  },
  {
   "cell_type": "code",
   "execution_count": 133,
   "metadata": {},
   "outputs": [
    {
     "ename": "SyntaxError",
     "evalue": "invalid syntax (<ipython-input-133-b38209e93982>, line 20)",
     "output_type": "error",
     "traceback": [
      "\u001b[0;36m  File \u001b[0;32m\"<ipython-input-133-b38209e93982>\"\u001b[0;36m, line \u001b[0;32m20\u001b[0m\n\u001b[0;31m    v = torch.(sqrt(v_2))\u001b[0m\n\u001b[0m              ^\u001b[0m\n\u001b[0;31mSyntaxError\u001b[0m\u001b[0;31m:\u001b[0m invalid syntax\n"
     ]
    }
   ],
   "source": [
    "def forward(state,control):\n",
    "    x,y,phi,vx,vy,r,delta,T = state\n",
    "    d_delta,dt = control\n",
    "    \n",
    "    cos_p = torch.cos(phi)\n",
    "    sin_p = torch.sin(phi)\n",
    "    cos_d = torch.cos(delta)\n",
    "    sin_d = torch.sin(delta)\n",
    "    \n",
    "    alpha_r = torch.atan((vy-lr*r)/vx )\n",
    "    alpha_f = torch.atan((vy-lf*r)/vx - delta )\n",
    "    \n",
    "    Fry = Dr*torch.sin( Cr*torch.atan(B*alpha_r) )\n",
    "    Fry = Df*torch.sin( Cf*torch.atan(B*alpha_f) )\n",
    "    Fx = Cm2*T - Cr0 - Cr2*vx*vx #those parameters to be determin\n",
    "    r_target = delta*vx/(lf+lr)\n",
    "    tau = (r_target-r)*Ptv\n",
    "    \n",
    "    v_2 = vx.pow(2) + vy.pow(2)\n",
    "    v = torch.(sqrt(v_2))\n",
    "    \n",
    "    d_beta = -r - 2*(Kf*(beta+lr/v*r-delta)+Kr*(beta-lr/v*r) )/m/v\n",
    "    d_r = -2*( Kf*(beta+lf/v*r-delta)*lf + Kr*(beta-lr/V*r)*lr )/I\n",
    "    \n",
    "    dx = vx*cos_p - vy*sin_p\n",
    "    dy = vx*sin_p + vy*cos_p\n",
    "    d_phi = r\n",
    "    dvx = (Fx - Ffy*sin_d + m*vy*r)/m\n",
    "    dvy = (Fry - Ffy*cos_d - m*vx*r)/m\n",
    "    dr = (Ffy*lf*cos_d - Fry*lr + tau)/lz\n",
    "    \n",
    "    x_     = x + dx*dt\n",
    "    y_     = y + dy*dt\n",
    "    phi_   = phi + d_phi*dt\n",
    "    vx_    = vx + dvx*dt\n",
    "    vy_    = vy + dvy*dt\n",
    "    r_     = r + dr*dt\n",
    "    delta_ = delta + d_delta\n",
    "    T_     = T + dt\n",
    "    "
   ]
  },
  {
   "cell_type": "code",
   "execution_count": 98,
   "metadata": {},
   "outputs": [
    {
     "data": {
      "text/plain": [
       "(10,)"
      ]
     },
     "execution_count": 98,
     "metadata": {},
     "output_type": "execute_result"
    }
   ],
   "source": [
    "a=np.zeros(10)\n",
    "a.shape"
   ]
  },
  {
   "cell_type": "code",
   "execution_count": null,
   "metadata": {},
   "outputs": [],
   "source": []
  },
  {
   "cell_type": "code",
   "execution_count": 2,
   "metadata": {},
   "outputs": [],
   "source": []
  },
  {
   "cell_type": "code",
   "execution_count": 69,
   "metadata": {},
   "outputs": [],
   "source": [
    "def construct_sigma(df,dg,sigma_x,sigma_w,B):\n",
    "    \n",
    "    sigma_00 = sigma_x\n",
    "    sigma_10 = dg@sigma_x\n",
    "    sigma_01 = sigma_10.t()\n",
    "    sigma_11 = sigma_10@dg.t() + sigma_w\n",
    "    \n",
    "    sigma_0 = torch.cat([sigma_00,sigma_01],dim=1)\n",
    "    sigma_1 = torch.cat([sigma_10,sigma_11],dim=1)\n",
    "    \n",
    "    sigma_ = torch.cat([sigma_0,sigma_1],dim=0)\n",
    "    \n",
    "    vec = torch.cat([df,B],dim=1)\n",
    "    \n",
    "    sigma = vec@sigma_@vec.t()\n",
    "    \n",
    "    return sigma"
   ]
  },
  {
   "cell_type": "code",
   "execution_count": 64,
   "metadata": {},
   "outputs": [],
   "source": [
    "def evaluate(func,state,control,grad=True):\n",
    "    F = func(state,control)\n",
    "    dF = None\n",
    "    if grad:\n",
    "        dF_ = [torch.autograd.grad(f,[state],grad_outputs=None,retain_graph=True,create_graph=False,only_inputs=True,allow_unused=True)[0].view(1,-1) for f in F]\n",
    "        dF  = torch.cat(dF_,dim=0)\n",
    "    return F,dF"
   ]
  },
  {
   "cell_type": "code",
   "execution_count": 53,
   "metadata": {},
   "outputs": [],
   "source": [
    "def process(state,control):\n",
    "    s0 = state[0]*control[0]\n",
    "    s1 = state[1]*control[1]\n",
    "    s2 = state[2]*control[1]\n",
    "    \n",
    "    return torch.cat([s0.view(1),s1.view(1),s2.view(1)],dim=0)"
   ]
  },
  {
   "cell_type": "code",
   "execution_count": 68,
   "metadata": {},
   "outputs": [],
   "source": [
    "def error_model(state,control):\n",
    "    e0 = state[0]*control[0]*0.1\n",
    "    e1 = state[1]*control[1]*0.1\n",
    "    return torch.cat([e0.view(1),e1.view(1)],dim=0)"
   ]
  },
  {
   "cell_type": "code",
   "execution_count": 66,
   "metadata": {},
   "outputs": [
    {
     "data": {
      "text/plain": [
       "tensor([[2., 0., 0.],\n",
       "        [0., 1., 0.],\n",
       "        [0., 0., 1.]])"
      ]
     },
     "execution_count": 66,
     "metadata": {},
     "output_type": "execute_result"
    }
   ],
   "source": []
  },
  {
   "cell_type": "code",
   "execution_count": 73,
   "metadata": {},
   "outputs": [
    {
     "data": {
      "text/plain": [
       "tensor([[1., 0.],\n",
       "        [0., 1.],\n",
       "        [0., 0.]])"
      ]
     },
     "execution_count": 73,
     "metadata": {},
     "output_type": "execute_result"
    }
   ],
   "source": [
    "sigma_x = torch.eye(3)*2\n",
    "sigma_w = torch.eye(2)*2\n",
    "B = torch.cat([torch.eye(2),torch.zeros(1,2)],dim=0)\n",
    "B"
   ]
  },
  {
   "cell_type": "code",
   "execution_count": 3,
   "metadata": {},
   "outputs": [
    {
     "ename": "NameError",
     "evalue": "name 'torch' is not defined",
     "output_type": "error",
     "traceback": [
      "\u001b[0;31m---------------------------------------------------------------------------\u001b[0m",
      "\u001b[0;31mNameError\u001b[0m                                 Traceback (most recent call last)",
      "\u001b[0;32m<ipython-input-3-ae6f343b6312>\u001b[0m in \u001b[0;36m<module>\u001b[0;34m\u001b[0m\n\u001b[0;32m----> 1\u001b[0;31m \u001b[0mstate\u001b[0m \u001b[0;34m=\u001b[0m \u001b[0mtorch\u001b[0m\u001b[0;34m.\u001b[0m\u001b[0mnn\u001b[0m\u001b[0;34m.\u001b[0m\u001b[0mParameter\u001b[0m\u001b[0;34m(\u001b[0m\u001b[0mtorch\u001b[0m\u001b[0;34m.\u001b[0m\u001b[0mTensor\u001b[0m\u001b[0;34m(\u001b[0m\u001b[0;34m[\u001b[0m\u001b[0;36m1.\u001b[0m\u001b[0;34m,\u001b[0m\u001b[0;36m2.\u001b[0m\u001b[0;34m,\u001b[0m\u001b[0;36m3.\u001b[0m\u001b[0;34m]\u001b[0m\u001b[0;34m)\u001b[0m\u001b[0;34m)\u001b[0m\u001b[0;34m\u001b[0m\u001b[0;34m\u001b[0m\u001b[0m\n\u001b[0m\u001b[1;32m      2\u001b[0m \u001b[0mprint\u001b[0m\u001b[0;34m(\u001b[0m\u001b[0mstate\u001b[0m\u001b[0;34m.\u001b[0m\u001b[0mrequires_grad\u001b[0m\u001b[0;34m)\u001b[0m\u001b[0;34m\u001b[0m\u001b[0;34m\u001b[0m\u001b[0m\n\u001b[1;32m      3\u001b[0m \u001b[0mcontrol\u001b[0m \u001b[0;34m=\u001b[0m \u001b[0mtorch\u001b[0m\u001b[0;34m.\u001b[0m\u001b[0mTensor\u001b[0m\u001b[0;34m(\u001b[0m\u001b[0;34m[\u001b[0m\u001b[0;36m2.\u001b[0m\u001b[0;34m,\u001b[0m\u001b[0;36m1.\u001b[0m\u001b[0;34m]\u001b[0m\u001b[0;34m)\u001b[0m\u001b[0;34m\u001b[0m\u001b[0;34m\u001b[0m\u001b[0m\n\u001b[1;32m      4\u001b[0m \u001b[0mf\u001b[0m\u001b[0;34m,\u001b[0m\u001b[0mdf\u001b[0m \u001b[0;34m=\u001b[0m \u001b[0mevaluate\u001b[0m\u001b[0;34m(\u001b[0m\u001b[0mprocess\u001b[0m\u001b[0;34m,\u001b[0m\u001b[0mstate\u001b[0m\u001b[0;34m,\u001b[0m\u001b[0mcontrol\u001b[0m\u001b[0;34m)\u001b[0m\u001b[0;34m\u001b[0m\u001b[0;34m\u001b[0m\u001b[0m\n\u001b[1;32m      5\u001b[0m \u001b[0mg\u001b[0m\u001b[0;34m,\u001b[0m\u001b[0mdg\u001b[0m \u001b[0;34m=\u001b[0m \u001b[0mevaluate\u001b[0m\u001b[0;34m(\u001b[0m\u001b[0merror_model\u001b[0m\u001b[0;34m,\u001b[0m\u001b[0mstate\u001b[0m\u001b[0;34m,\u001b[0m\u001b[0mcontrol\u001b[0m\u001b[0;34m)\u001b[0m\u001b[0;34m\u001b[0m\u001b[0;34m\u001b[0m\u001b[0m\n",
      "\u001b[0;31mNameError\u001b[0m: name 'torch' is not defined"
     ]
    }
   ],
   "source": [
    "state = torch.nn.Parameter(torch.Tensor([1.,2.,3.]))\n",
    "print(state.requires_grad)\n",
    "control = torch.Tensor([2.,1.])\n",
    "f,df = evaluate(process,state,control)\n",
    "g,dg = evaluate(error_model,state,control)\n",
    "construct_sigma(df,dg,sigma_x,sigma_w,B)"
   ]
  },
  {
   "cell_type": "code",
   "execution_count": 6,
   "metadata": {},
   "outputs": [],
   "source": [
    "import cubic_spline_planner"
   ]
  },
  {
   "cell_type": "code",
   "execution_count": 7,
   "metadata": {},
   "outputs": [
    {
     "name": "stdout",
     "output_type": "stream",
     "text": [
      "LQR steering control tracking start!!\n"
     ]
    }
   ],
   "source": [
    "print(\"LQR steering control tracking start!!\")\n",
    "ax = [0.0, 6.0, 12.5, 10.0, 7.5, 3.0, -1.0]\n",
    "ay = [0.0, -3.0, -5.0, 6.5, 3.0, 5.0, -2.0]\n",
    "goal = [ax[-1], ay[-1]]\n",
    "\n",
    "cx, cy, cyaw, ck, s = cubic_spline_planner.calc_spline_course(\n",
    "        ax, ay, ds=0.0001)"
   ]
  },
  {
   "cell_type": "code",
   "execution_count": 9,
   "metadata": {},
   "outputs": [
    {
     "name": "stdout",
     "output_type": "stream",
     "text": [
      "2.0001316153210413 -0.42747397147825394\n"
     ]
    },
    {
     "ename": "AttributeError",
     "evalue": "module 'numpy' has no attribute 'com'",
     "output_type": "error",
     "traceback": [
      "\u001b[0;31m---------------------------------------------------------------------------\u001b[0m",
      "\u001b[0;31mAttributeError\u001b[0m                            Traceback (most recent call last)",
      "\u001b[0;32m<ipython-input-9-636f83c46a4d>\u001b[0m in \u001b[0;36m<module>\u001b[0;34m\u001b[0m\n\u001b[1;32m      8\u001b[0m \u001b[0mplt\u001b[0m\u001b[0;34m.\u001b[0m\u001b[0mscatter\u001b[0m\u001b[0;34m(\u001b[0m\u001b[0mcx\u001b[0m\u001b[0;34m[\u001b[0m\u001b[0mi\u001b[0m\u001b[0;34m:\u001b[0m\u001b[0;34m]\u001b[0m\u001b[0;34m,\u001b[0m\u001b[0mcy\u001b[0m\u001b[0;34m[\u001b[0m\u001b[0mi\u001b[0m\u001b[0;34m:\u001b[0m\u001b[0;34m]\u001b[0m\u001b[0;34m)\u001b[0m\u001b[0;34m\u001b[0m\u001b[0;34m\u001b[0m\u001b[0m\n\u001b[1;32m      9\u001b[0m \u001b[0mplt\u001b[0m\u001b[0;34m.\u001b[0m\u001b[0mscatter\u001b[0m\u001b[0;34m(\u001b[0m\u001b[0max\u001b[0m\u001b[0;34m,\u001b[0m\u001b[0may\u001b[0m\u001b[0;34m,\u001b[0m\u001b[0mc\u001b[0m\u001b[0;34m=\u001b[0m\u001b[0;34m'r'\u001b[0m\u001b[0;34m)\u001b[0m\u001b[0;34m\u001b[0m\u001b[0;34m\u001b[0m\u001b[0m\n\u001b[0;32m---> 10\u001b[0;31m \u001b[0mgx\u001b[0m\u001b[0;34m=\u001b[0m\u001b[0mnp\u001b[0m\u001b[0;34m.\u001b[0m\u001b[0mcom\u001b[0m\u001b[0;34m\u001b[0m\u001b[0;34m\u001b[0m\u001b[0m\n\u001b[0m\u001b[1;32m     11\u001b[0m \u001b[0mir\u001b[0m\u001b[0;34m\u001b[0m\u001b[0;34m\u001b[0m\u001b[0m\n",
      "\u001b[0;31mAttributeError\u001b[0m: module 'numpy' has no attribute 'com'"
     ]
    },
    {
     "data": {
      "image/png": "[encoded data removed]",
      "text/plain": [
       "<Figure size 432x288 with 1 Axes>"
      ]
     },
     "metadata": {
      "needs_background": "light"
     },
     "output_type": "display_data"
    }
   ],
   "source": [
    "import matplotlib.pyplot as plt\n",
    "import numpy as np\n",
    "print(\"LQR steering control tracking start!!\")\n",
    "ax = [0.0, 6.0, 12.5, 10.0, 7.5, 3.0, -1.0]\n",
    "ay = [0.0, -3.0, -5.0, 6.5, 3.0, 5.0, -2.0]\n",
    "goal = [ax[-1], ay[-1]]\n",
    "\n",
    "cx, cy, cyaw, ck, s = cubic_spline_planner.calc_spline_course(\n",
    "        ax, ay, ds=0.0001)\n",
    "i=0000\n",
    "dx = (cx[i+1]-2*cx[i]+cx[i-1])/2\n",
    "dy = (cy[i+1]-2*cy[i]+cy[i-1])/2\n",
    "print(dy/dx,cyaw[i])\n",
    "plt.scatter(cx[i:],cy[i:])\n",
    "plt.scatter(ax,ay,c='r')\n",
    "gx=np.com\n",
    "ir"
   ]
  },
  {
   "cell_type": "code",
   "execution_count": 24,
   "metadata": {},
   "outputs": [
    {
     "data": {
      "text/plain": [
       "-0.48993993755223814"
      ]
     },
     "execution_count": 24,
     "metadata": {},
     "output_type": "execute_result"
    }
   ],
   "source": [
    "gy[0]/gx[0]"
   ]
  },
  {
   "cell_type": "code",
   "execution_count": 10,
   "metadata": {},
   "outputs": [
    {
     "data": {
      "text/plain": [
       "torch.Size([425654, 4])"
      ]
     },
     "execution_count": 10,
     "metadata": {},
     "output_type": "execute_result"
    }
   ],
   "source": [
    "\n",
    "import numpy as np\n",
    "\n",
    "cx = np.array(cx)\n",
    "cy = np.array(cy)\n",
    "\n",
    "dx = cx[1:]-cx[:-1]\n",
    "dy = cy[1:]-cy[:-1]\n",
    "\n",
    "grad = dy/dx\n",
    "\n",
    "gx,gy = np.cos(grad),np.sin(grad)\n",
    "\n",
    "gx=np.append(gx,0)\n",
    "gy=np.append(gy,0)\n",
    "\n",
    "\n",
    "waypoints = torch.cat([torch.FloatTensor(cx).view(-1,1),torch.FloatTensor(cy).view(-1,1),torch.FloatTensor(gx).view(-1,1),torch.FloatTensor(gy).view(-1,1)] ,dim=1)\n",
    "waypoints.size()"
   ]
  },
  {
   "cell_type": "code",
   "execution_count": 36,
   "metadata": {},
   "outputs": [
    {
     "name": "stdout",
     "output_type": "stream",
     "text": [
      "-3.33783971037759 -1.8640980135966956\n"
     ]
    }
   ],
   "source": [
    "\n",
    "dx = (cx[i+1]-2*cx[i]+cx[i-1])/2\n",
    "dy = (cy[i+1]-2*cy[i]+cy[i-1])/2\n",
    "print(dy/dx,cyaw[i])"
   ]
  },
  {
   "cell_type": "code",
   "execution_count": 59,
   "metadata": {},
   "outputs": [
    {
     "data": {
      "text/plain": [
       "tensor([0., 0., 0.])"
      ]
     },
     "execution_count": 59,
     "metadata": {},
     "output_type": "execute_result"
    }
   ],
   "source": [
    "a=torch.zeros(10,4)\n",
    "indices=[1,4,5]\n",
    "a[indices,0]"
   ]
  },
  {
   "cell_type": "code",
   "execution_count": 88,
   "metadata": {},
   "outputs": [
    {
     "data": {
      "text/plain": [
       "(tensor(11.3648), tensor([[ 8.2019e-04, -3.7365e-04,  8.9801e-01, -4.3997e-01],\n",
       "         [ 1.6404e-03, -7.4730e-04,  8.9801e-01, -4.3997e-01],\n",
       "         [ 2.4606e-03, -1.1210e-03,  8.9801e-01, -4.3997e-01]]))"
      ]
     },
     "execution_count": 88,
     "metadata": {},
     "output_type": "execute_result"
    }
   ],
   "source": [
    "states = torch.ones(3,2)\n",
    "indices = [10,20,30]\n",
    "e = compute_error_parallel(states,waypoints,indices,1,2)\n",
    "e,waypoints[indices]"
   ]
  },
  {
   "cell_type": "code",
   "execution_count": 89,
   "metadata": {},
   "outputs": [
    {
     "data": {
      "text/plain": [
       "tensor([1.])"
      ]
     },
     "execution_count": 89,
     "metadata": {},
     "output_type": "execute_result"
    }
   ],
   "source": [
    "a=torch.Tensor([1.001])\n",
    "a.round()"
   ]
  },
  {
   "cell_type": "code",
   "execution_count": null,
   "metadata": {},
   "outputs": [],
   "source": [
    "def \n",
    "\n"
   ]
  },
  {
   "cell_type": "code",
   "execution_count": 86,
   "metadata": {},
   "outputs": [],
   "source": [
    "def compute_error_parallel(states,waypoints,indices,ql,qc):\n",
    "    x,y = states[:,0],states[:,1]\n",
    "    cx,cy,gx,gy = waypoints[indices,0],waypoints[indices,1],waypoints[indices,2],waypoints[indices,3]\n",
    "    el = -gx*(x-cx) - gy*(y-cy)\n",
    "    ec =  gy*(x-cx) - gx*(y-cy)\n",
    "    err = ql*el.pow(2).sum()+qc*ec.pow(2).sum()\n",
    "    return err"
   ]
  },
  {
   "cell_type": "code",
   "execution_count": 56,
   "metadata": {},
   "outputs": [],
   "source": [
    "def compute_error(state,waypoints,indx):\n",
    "    x,y,phi,vx,vy,r,delta,T = state\n",
    "    cx,cy,gx,gy = waypoints[indx]   \n",
    "    el = -gx*(x-cx) - gy*(y-cy)\n",
    "    ec =  gy*(x-cx) - gx*(y-cy)\n",
    "    return el,ec"
   ]
  },
  {
   "cell_type": "code",
   "execution_count": 54,
   "metadata": {},
   "outputs": [],
   "source": [
    "L = 100\n",
    "\n",
    "def search_(state,waypoints,_indx):\n",
    "    x,y,phi,vx,vy,r,delta,T = state\n",
    "    cx,cy,gx,gy = waypoints\n",
    "    dx = x-cx[_indx:_indx+L]\n",
    "    dy = y-cy[_indx:_indx+L]\n",
    "    d2 = dx.pow(2) + dy.pow(2)\n",
    "    indx = torch.argmin(d2) + _indx\n",
    "\n",
    "    return indx_\n"
   ]
  },
  {
   "cell_type": "code",
   "execution_count": 52,
   "metadata": {},
   "outputs": [],
   "source": [
    "import torch\n",
    "\n",
    "waypoints = torch.Tensor(cx),torch.Tensor(cy),_,_\n",
    "states = torch.Tensor([0.00081]),torch.Tensor([-0.00041]),_,_,_,_,_,_\n",
    "ind = 7\n",
    "ind_ = compute_error(states,waypoints,ind)\n"
   ]
  },
  {
   "cell_type": "code",
   "execution_count": 53,
   "metadata": {},
   "outputs": [
    {
     "data": {
      "text/plain": [
       "tensor(10)"
      ]
     },
     "execution_count": 53,
     "metadata": {},
     "output_type": "execute_result"
    }
   ],
   "source": [
    "ind_"
   ]
  },
  {
   "cell_type": "code",
   "execution_count": 50,
   "metadata": {},
   "outputs": [
    {
     "data": {
      "text/plain": [
       "(tensor(0.0008), tensor(-0.0004))"
      ]
     },
     "execution_count": 50,
     "metadata": {},
     "output_type": "execute_result"
    }
   ],
   "source": [
    "waypoints[0][10],waypoints[1][10]"
   ]
  },
  {
   "cell_type": "code",
   "execution_count": null,
   "metadata": {},
   "outputs": [],
   "source": [
    "\n"
   ]
  }
 ],
 "metadata": {
  "kernelspec": {
   "display_name": "Python 3",
   "language": "python",
   "name": "python3"
  },
  "language_info": {
   "codemirror_mode": {
    "name": "ipython",
    "version": 3
   },
   "file_extension": ".py",
   "mimetype": "text/x-python",
   "name": "python",
   "nbconvert_exporter": "python",
   "pygments_lexer": "ipython3",
   "version": "3.6.8"
  }
 },
 "nbformat": 4,
 "nbformat_minor": 4
}
