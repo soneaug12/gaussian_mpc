{
 "cells": [
  {
   "cell_type": "code",
   "execution_count": null,
   "metadata": {},
   "outputs": [],
   "source": []
  },
  {
   "cell_type": "code",
   "execution_count": 2,
   "metadata": {},
   "outputs": [],
   "source": [
    "import torch\n",
    "import torch.nn as nn\n",
    "from evals import *\n",
    "from optimization import *\n",
    "from gauss_update import *\n",
    "from kinetic_model import *\n",
    "import cubic_spline_planner"
   ]
  },
  {
   "cell_type": "code",
   "execution_count": 3,
   "metadata": {},
   "outputs": [
    {
     "data": {
      "text/plain": [
       "<matplotlib.collections.PathCollection at 0x7f146eab2a20>"
      ]
     },
     "execution_count": 3,
     "metadata": {},
     "output_type": "execute_result"
    }
   ],
   "source": [
    "import matplotlib.pyplot as plt\n",
    "import numpy as np\n",
    "\n",
    "ax = [0.0, 6.0, 12.5, 10.0, 7.5, 3.0, -1.0]\n",
    "ay = [0.0, -3.0, -5.0, 6.5, 3.0, 5.0, -2.0]\n",
    "goal = [ax[-1], ay[-1]]\n",
    "\n",
    "cx, cy, cyaw, ck, s = cubic_spline_planner.calc_spline_course(\n",
    "        ax, ay, ds=0.2)\n",
    "\n",
    "plt.scatter(cx,cy)\n",
    "plt.scatter(ax,ay,c='r')\n",
    "\n",
    "\n"
   ]
  },
  {
   "cell_type": "code",
   "execution_count": null,
   "metadata": {},
   "outputs": [],
   "source": []
  },
  {
   "cell_type": "code",
   "execution_count": 4,
   "metadata": {},
   "outputs": [],
   "source": [
    "class deviation_error_(torch.autograd.Function):\n",
    "    \n",
    "    @staticmethod\n",
    "    def forward(ctx,states,vs,waypoints,start):\n",
    "        states = states.data.clone()\n",
    "        states.requires_grad = True\n",
    "        \n",
    "        _range = torch.arange(len(states)).view(-1,1)\n",
    "        range_ = _range.t()\n",
    "        mask = (_range<=range_).float()\n",
    "        \n",
    "        inds = (mask.t()@vs.view(-1,1)).view(-1).round().long()+start\n",
    "        #print(inds)\n",
    "        #print([vs[:i+1].sum().data+start for i in range(len(vs))])\n",
    "        dw = waypoints[inds+1]-waypoints[inds]\n",
    "        \n",
    "        refs = waypoints[inds].data.clone().requires_grad_()\n",
    "        with torch.enable_grad():\n",
    "            error = error_deviation_parallel_(states,refs,inds,ql,qc)\n",
    "            de_s,de_w = torch.autograd.grad(error,[states]+[refs],grad_outputs=None,retain_graph=False,create_graph=False)\n",
    " \n",
    "        ctx.save_for_backward(states.data.clone(),vs.data.clone(),waypoints,de_s.data.clone(),de_w.data.clone(),dw.data.clone())\n",
    "        \n",
    "        return error.data.clone()\n",
    "    \n",
    "    @staticmethod\n",
    "    def backward(ctx,de):\n",
    "        states,vs,waypoints,de_s,de_w,dw = ctx.saved_tensors\n",
    "         \n",
    "        de_theta = (de_w@dw.t()).diag().view(-1,1)\n",
    "        _range = torch.arange(len(states)).view(-1,1)\n",
    "        range_ = _range.t()\n",
    "        mask = (_range<=range_).float()cx = torch.Tensor(cx).view(-1,1)\n",
    "cy = torch.Tensor(cy).view(-1,1)\n",
    "\n",
    "gx = cx[1:]-cx[:-1]\n",
    "gy = cy[1:]-cy[:-1]\n",
    "\n",
    "\n",
    "waypoints = torch.cat([cx[:-1],cy[:-1],gx,gy],dim=1)\n",
    "\n",
    "start=150\n",
    "\n",
    "x0,y0,gx0,gy0 = waypoints[start]\n",
    "v0 = torch.sqrt(gx0.pow(2)+gy0.pow(2))*3\n",
    "yaw0 = torch.atan2(gy0,gx0)\n",
    "delta0=torch.zeros(1)\n",
    "a0=torch.zeros(1)\n",
    "state0 = torch.cat(  [x0.view(1),y0.view(1),yaw0.view(1),v0.view(1),delta0,a0])\n",
    "control0 = torch.Tensor([0.0001,0.0001,0.001])\n",
    "        \n",
    "        de_v = (mask@de_theta).view(-1)\n",
    "        #print(de_v)\n",
    "        return de_s.data.clone(),de_v.data.clone(),None,None"
   ]
  },
  {
   "cell_type": "code",
   "execution_count": 109,
   "metadata": {},
   "outputs": [
    {
     "data": {
      "text/plain": [
       "tensor([7.1618, 2.9268, 3.1397, 0.5057, 0.0000, 0.0000])"
      ]
     },
     "execution_count": 109,
     "metadata": {},
     "output_type": "execute_result"
    }
   ],
   "source": [
    "cx = torch.Tensor(cx).view(-1,1)\n",
    "cy = torch.Tensor(cy).view(-1,1)\n",
    "\n",
    "gx = cx[1:]-cx[:-1]\n",
    "gy = cy[1:]-cy[:-1]\n",
    "\n",
    "\n",
    "waypoints = torch.cat([cx[:-1],cy[:-1],gx,gy],dim=1)\n",
    "\n",
    "start=150\n",
    "\n",
    "x0,y0,gx0,gy0 = waypoints[start]\n",
    "v0 = torch.sqrt(gx0.pow(2)+gy0.pow(2))*3\n",
    "yaw0 = torch.atan2(gy0,gx0)\n",
    "delta0=torch.zeros(1)\n",
    "a0=torch.zeros(1)\n",
    "state0 = torch.cat(  [x0.view(1),y0.view(1),yaw0.view(1),v0.view(1),delta0,a0])\n",
    "control0 = torch.Tensor([0.0001,0.0001,0.001])\n",
    "state0"
   ]
  },
  {
   "cell_type": "code",
   "execution_count": null,
   "metadata": {},
   "outputs": [],
   "source": []
  },
  {
   "cell_type": "code",
   "execution_count": 117,
   "metadata": {},
   "outputs": [],
   "source": [
    "state0[3]=0.2"
   ]
  },
  {
   "cell_type": "code",
   "execution_count": 110,
   "metadata": {},
   "outputs": [
    {
     "name": "stdout",
     "output_type": "stream",
     "text": [
      "tensor([3.0001, 3.0001, 3.0001, 3.0001, 3.0001, 3.0001, 3.0001, 3.0001, 3.0001,\n",
      "        3.0001])\n",
      "0.7396644 -0.30000994\n",
      "0.13342646 -0.30000994\n",
      "0.08984161 -0.30000994\n",
      "0.07481848 -0.30000994\n",
      "0.0706311 -0.30000994\n",
      "0.06259345 -0.30000994\n",
      "0.051519826 -0.30000994\n",
      "0.046565443 -0.30000994\n",
      "0.04194828 -0.30000994\n",
      "0.038141076 -0.30000994\n",
      "0.034598093 -0.30000994\n",
      "0.031222954 -0.30000994\n",
      "0.02798053 -0.30000994\n",
      "0.024869721 -0.30000994\n",
      "0.021899631 -0.30000994\n",
      "0.019091371 -0.30000994\n",
      "0.016481498 -0.30000994\n",
      "0.014122797 -0.30000994\n",
      "0.012078099 -0.30000994\n",
      "0.010403979 -0.30000994\n"
     ]
    },
    {
     "data": {
      "text/plain": [
       "<matplotlib.collections.PathCollection at 0x7f146062b1d0>"
      ]
     },
     "execution_count": 110,
     "metadata": {},
     "output_type": "execute_result"
    },
    {
     "data": {
      "image/png": "[encoded data removed]",
      "text/plain": [
       "<Figure size 432x288 with 1 Axes>"
      ]
     },
     "metadata": {
      "needs_background": "light"
     },
     "output_type": "display_data"
    }
   ],
   "source": [
    "#初回\n",
    "\n",
    "len_horizon = 10\n",
    "EMAX=2000\n",
    "kappa=0.01\n",
    "TMAX = 1\n",
    "_controls = torch.nn.Parameter(torch.zeros(len_horizon,2))\n",
    "\n",
    "dt = torch.ones(len_horizon,1)\n",
    "vs = torch.nn.Parameter(torch.ones(len_horizon)).data.clone()*3.0001\n",
    "\n",
    "\n",
    "print(vs)\n",
    "opt = torch.optim.Adam([vs]+[_controls],lr=0.01)\n",
    "#print(controls.size())\n",
    "for T in range(TMAX):\n",
    "    if T>0:\n",
    "        state0 = s2_[0]\n",
    "        _controls = torch.nn.Parameter(controls2_.data.clone())\n",
    "        start = start2_\n",
    "    for epoch in range(EMAX):\n",
    "        controls = torch.cat([_controls,dt],dim=1)\n",
    "        s=state0\n",
    "        s_=[]\n",
    "        for t in range(len_horizon):\n",
    "            s = model(s,controls[t])\n",
    "            s_.append(s.view(1,-1))\n",
    "        s_ = torch.cat(s_,dim=0)\n",
    "        if epoch==0:\n",
    "            s0_ = s_.data.clone()\n",
    "        dev = deviation_error_.apply\n",
    "        dev_loss = dev(s_,vs,waypoints,start)\n",
    "        v_loss = -kappa*vs.sum()\n",
    "        loss = dev_loss + v_loss\n",
    "        if epoch % 100 ==0:\n",
    "            print(dev_loss.data.numpy(),v_loss.data.numpy())\n",
    "        opt.zero_grad()\n",
    "        loss.backward(retain_graph=True)\n",
    "        opt.step()\n",
    "x_ = s_[:,0].data.numpy()\n",
    "y_ = s_[:,1].data.numpy()\n",
    "    \n",
    "plt.scatter(x_,y_,c='b',s=20)\n",
    "plt.scatter(cx,cy,c='r',s=1)\n",
    "    "
   ]
  },
  {
   "cell_type": "code",
   "execution_count": 108,
   "metadata": {},
   "outputs": [
    {
     "name": "stdout",
     "output_type": "stream",
     "text": [
      "tensor([ 4.9153,  3.8062,  2.4008,  0.7471,  0.6306, -0.0991],\n",
      "       grad_fn=<SelectBackward>)\n",
      "Parameter containing:\n",
      "tensor([[ 0.0423, -0.1589],\n",
      "        [ 0.0579, -0.8063],\n",
      "        [-1.0263, -1.1404],\n",
      "        [ 1.0257,  1.1381],\n",
      "        [-0.0241, -0.7162],\n",
      "        [-0.0181,  0.1500],\n",
      "        [-0.0085,  0.1448],\n",
      "        [ 0.0000,  0.0000],\n",
      "        [ 0.0000,  0.0000],\n",
      "        [ 0.0000,  0.0000]], requires_grad=True)\n",
      "tensor([3.0001, 3.0001, 3.0001, 3.0001, 3.0001, 3.0001, 3.0001, 3.0001, 3.0001,\n",
      "        3.0001])\n",
      "162\n",
      "0.0006184621 -0.30000994\n",
      "0.00079016766 -0.30000994\n",
      "0.00062702526 -0.30000994\n",
      "0.0005359805 -0.30000994\n"
     ]
    },
    {
     "ename": "KeyboardInterrupt",
     "evalue": "",
     "output_type": "error",
     "traceback": [
      "\u001b[0;31m---------------------------------------------------------------------------\u001b[0m",
      "\u001b[0;31mKeyboardInterrupt\u001b[0m                         Traceback (most recent call last)",
      "\u001b[0;32m<ipython-input-108-74a3231f6b7d>\u001b[0m in \u001b[0;36m<module>\u001b[0;34m\u001b[0m\n\u001b[1;32m     38\u001b[0m             \u001b[0mprint\u001b[0m\u001b[0;34m(\u001b[0m\u001b[0mdev_loss\u001b[0m\u001b[0;34m.\u001b[0m\u001b[0mdata\u001b[0m\u001b[0;34m.\u001b[0m\u001b[0mnumpy\u001b[0m\u001b[0;34m(\u001b[0m\u001b[0;34m)\u001b[0m\u001b[0;34m,\u001b[0m\u001b[0mv_loss\u001b[0m\u001b[0;34m.\u001b[0m\u001b[0mdata\u001b[0m\u001b[0;34m.\u001b[0m\u001b[0mnumpy\u001b[0m\u001b[0;34m(\u001b[0m\u001b[0;34m)\u001b[0m\u001b[0;34m)\u001b[0m\u001b[0;34m\u001b[0m\u001b[0;34m\u001b[0m\u001b[0m\n\u001b[1;32m     39\u001b[0m         \u001b[0mopt\u001b[0m\u001b[0;34m.\u001b[0m\u001b[0mzero_grad\u001b[0m\u001b[0;34m(\u001b[0m\u001b[0;34m)\u001b[0m\u001b[0;34m\u001b[0m\u001b[0;34m\u001b[0m\u001b[0m\n\u001b[0;32m---> 40\u001b[0;31m         \u001b[0mloss\u001b[0m\u001b[0;34m.\u001b[0m\u001b[0mbackward\u001b[0m\u001b[0;34m(\u001b[0m\u001b[0mretain_graph\u001b[0m\u001b[0;34m=\u001b[0m\u001b[0;32mTrue\u001b[0m\u001b[0;34m)\u001b[0m\u001b[0;34m\u001b[0m\u001b[0;34m\u001b[0m\u001b[0m\n\u001b[0m\u001b[1;32m     41\u001b[0m         \u001b[0mopt\u001b[0m\u001b[0;34m.\u001b[0m\u001b[0mstep\u001b[0m\u001b[0;34m(\u001b[0m\u001b[0;34m)\u001b[0m\u001b[0;34m\u001b[0m\u001b[0;34m\u001b[0m\u001b[0m\n\u001b[1;32m     42\u001b[0m \u001b[0mx_\u001b[0m \u001b[0;34m=\u001b[0m \u001b[0ms_\u001b[0m\u001b[0;34m[\u001b[0m\u001b[0;34m:\u001b[0m\u001b[0;34m,\u001b[0m\u001b[0;36m0\u001b[0m\u001b[0;34m]\u001b[0m\u001b[0;34m.\u001b[0m\u001b[0mdata\u001b[0m\u001b[0;34m.\u001b[0m\u001b[0mnumpy\u001b[0m\u001b[0;34m(\u001b[0m\u001b[0;34m)\u001b[0m\u001b[0;34m\u001b[0m\u001b[0;34m\u001b[0m\u001b[0m\n",
      "\u001b[0;32m~/.local/lib/python3.6/site-packages/torch/tensor.py\u001b[0m in \u001b[0;36mbackward\u001b[0;34m(self, gradient, retain_graph, create_graph)\u001b[0m\n\u001b[1;32m    105\u001b[0m                 \u001b[0mproducts\u001b[0m\u001b[0;34m.\u001b[0m \u001b[0mDefaults\u001b[0m \u001b[0mto\u001b[0m\u001b[0;31m \u001b[0m\u001b[0;31m`\u001b[0m\u001b[0;31m`\u001b[0m\u001b[0;32mFalse\u001b[0m\u001b[0;31m`\u001b[0m\u001b[0;31m`\u001b[0m\u001b[0;34m.\u001b[0m\u001b[0;34m\u001b[0m\u001b[0;34m\u001b[0m\u001b[0m\n\u001b[1;32m    106\u001b[0m         \"\"\"\n\u001b[0;32m--> 107\u001b[0;31m         \u001b[0mtorch\u001b[0m\u001b[0;34m.\u001b[0m\u001b[0mautograd\u001b[0m\u001b[0;34m.\u001b[0m\u001b[0mbackward\u001b[0m\u001b[0;34m(\u001b[0m\u001b[0mself\u001b[0m\u001b[0;34m,\u001b[0m \u001b[0mgradient\u001b[0m\u001b[0;34m,\u001b[0m \u001b[0mretain_graph\u001b[0m\u001b[0;34m,\u001b[0m \u001b[0mcreate_graph\u001b[0m\u001b[0;34m)\u001b[0m\u001b[0;34m\u001b[0m\u001b[0;34m\u001b[0m\u001b[0m\n\u001b[0m\u001b[1;32m    108\u001b[0m \u001b[0;34m\u001b[0m\u001b[0m\n\u001b[1;32m    109\u001b[0m     \u001b[0;32mdef\u001b[0m \u001b[0mregister_hook\u001b[0m\u001b[0;34m(\u001b[0m\u001b[0mself\u001b[0m\u001b[0;34m,\u001b[0m \u001b[0mhook\u001b[0m\u001b[0;34m)\u001b[0m\u001b[0;34m:\u001b[0m\u001b[0;34m\u001b[0m\u001b[0;34m\u001b[0m\u001b[0m\n",
      "\u001b[0;32m~/.local/lib/python3.6/site-packages/torch/autograd/__init__.py\u001b[0m in \u001b[0;36mbackward\u001b[0;34m(tensors, grad_tensors, retain_graph, create_graph, grad_variables)\u001b[0m\n\u001b[1;32m     91\u001b[0m     Variable._execution_engine.run_backward(\n\u001b[1;32m     92\u001b[0m         \u001b[0mtensors\u001b[0m\u001b[0;34m,\u001b[0m \u001b[0mgrad_tensors\u001b[0m\u001b[0;34m,\u001b[0m \u001b[0mretain_graph\u001b[0m\u001b[0;34m,\u001b[0m \u001b[0mcreate_graph\u001b[0m\u001b[0;34m,\u001b[0m\u001b[0;34m\u001b[0m\u001b[0;34m\u001b[0m\u001b[0m\n\u001b[0;32m---> 93\u001b[0;31m         allow_unreachable=True)  # allow_unreachable flag\n\u001b[0m\u001b[1;32m     94\u001b[0m \u001b[0;34m\u001b[0m\u001b[0m\n\u001b[1;32m     95\u001b[0m \u001b[0;34m\u001b[0m\u001b[0m\n",
      "\u001b[0;31mKeyboardInterrupt\u001b[0m: "
     ]
    }
   ],
   "source": [
    "len_horizon = 10\n",
    "EMAX=2000\n",
    "kappa=0.01\n",
    "TMAX = 1\n",
    "_controls = torch.nn.Parameter(torch.zeros(len_horizon,2))\n",
    "\n",
    "\n",
    "\n",
    "dt = torch.ones(len_horizon,1)\n",
    "vs = torch.nn.Parameter(torch.ones(len_horizon)).data.clone()*3.0001\n",
    "\n",
    "state0 = s2_[0]\n",
    "_controls = torch.nn.Parameter(controls2_.data.clone())\n",
    "start = start2_\n",
    "print(state0)\n",
    "print(_controls)\n",
    "\n",
    "print(vs)\n",
    "opt = torch.optim.Adam([vs]+[_controls],lr=0.01)\n",
    "#print(controls.size())\n",
    "print(start)\n",
    "for T in range(TMAX):\n",
    "    for epoch in range(EMAX):\n",
    "        controls = torch.cat([_controls,dt],dim=1)\n",
    "        s=state0\n",
    "        s_=[]\n",
    "        for t in range(len_horizon):\n",
    "            s = model(s,controls[t])\n",
    "            s_.append(s.view(1,-1))\n",
    "        s_ = torch.cat(s_,dim=0)\n",
    "        if epoch==0:\n",
    "            s0_ = s_.data.clone()\n",
    "        dev = deviation_error_.apply\n",
    "        dev_loss = dev(s_,vs,waypoints,start)\n",
    "        v_loss = -kappa*vs.sum()\n",
    "        loss = dev_loss + v_loss\n",
    "        if epoch % 100 ==0:\n",
    "            print(dev_loss.data.numpy(),v_loss.data.numpy())\n",
    "        opt.zero_grad()\n",
    "        loss.backward(retain_graph=True)\n",
    "        opt.step()\n",
    "x_ = s_[:,0].data.numpy()\n",
    "y_ = s_[:,1].data.numpy()\n",
    "    \n",
    "plt.scatter(x_,y_,c='b',s=20)\n",
    "plt.scatter(cx,cy,c='r',s=1)\n",
    "    "
   ]
  },
  {
   "cell_type": "code",
   "execution_count": 94,
   "metadata": {},
   "outputs": [
    {
     "data": {
      "text/plain": [
       "(tensor([3.0001, 3.0001, 3.0001, 3.0001, 3.0001, 3.0001, 3.0001, 3.0001, 3.0001,\n",
       "         3.0001]),\n",
       " tensor([[ 5.5189,  3.2250,  2.3331,  0.5060, -0.1303, -0.3030],\n",
       "         [ 5.1695,  3.5910,  2.3066,  0.2031,  0.8414,  0.4011],\n",
       "         [ 5.0332,  3.7415,  2.3975,  0.6042,  0.7358,  0.1132],\n",
       "         [ 4.5886,  4.1508,  2.6163,  0.7174, -0.1112, -0.0818],\n",
       "         [ 3.9679,  4.5106,  2.5843,  0.6356, -2.3420, -0.1057],\n",
       "         [ 3.4285,  4.8468,  2.8458,  0.5299,  0.5118, -0.0430],\n",
       "         [ 2.9216,  5.0012,  2.9649,  0.4869,  1.1201, -0.0479],\n",
       "         [ 2.4423,  5.0868,  3.3673,  0.4390,  0.9907,  0.0083],\n",
       "         [ 2.0145,  4.9886,  3.6352,  0.4473,  0.9907,  0.0083],\n",
       "         [ 1.6206,  4.7767,  3.9082,  0.4556,  0.9907,  0.0083]],\n",
       "        grad_fn=<CatBackward>))"
      ]
     },
     "execution_count": 94,
     "metadata": {},
     "output_type": "execute_result"
    }
   ],
   "source": [
    "vs,s_"
   ]
  },
  {
   "cell_type": "code",
   "execution_count": 35,
   "metadata": {},
   "outputs": [
    {
     "data": {
      "text/plain": [
       "tensor([[ 4.9010,  3.9226,  2.4992,  0.7205,  0.6883,  0.3641],\n",
       "        [ 4.3241,  4.3543,  2.7363,  1.0846,  0.6883,  0.3641],\n",
       "        [ 3.3274,  4.7819,  3.0931,  1.4486,  0.6883,  0.3641],\n",
       "        [ 1.8805,  4.8522,  3.5697,  1.8127,  0.6883,  0.3641],\n",
       "        [ 0.2314,  4.0997,  4.1661,  2.1768,  0.6883,  0.3641],\n",
       "        [-0.8995,  2.2398,  4.8822,  2.5408,  0.6883,  0.3641],\n",
       "        [-0.4700, -0.2645,  5.7182,  2.9049,  0.6883,  0.3641],\n",
       "        [ 1.9835, -1.8198,  6.6739,  3.2690,  0.6883,  0.3641],\n",
       "        [ 5.0060, -0.5748,  7.7494,  3.6331,  0.6883,  0.3641],\n",
       "        [ 5.3852,  3.0385,  8.9447,  3.9971,  0.6883,  0.3641]])"
      ]
     },
     "execution_count": 35,
     "metadata": {},
     "output_type": "execute_result"
    }
   ],
   "source": [
    "s0_"
   ]
  },
  {
   "cell_type": "code",
   "execution_count": 106,
   "metadata": {},
   "outputs": [
    {
     "data": {
      "text/plain": [
       "(tensor([[ 0.0423, -0.1589],\n",
       "         [ 0.0579, -0.8063],\n",
       "         [-1.0263, -1.1404],\n",
       "         [ 1.0257,  1.1381],\n",
       "         [-0.0241, -0.7162],\n",
       "         [-0.0181,  0.1500],\n",
       "         [-0.0085,  0.1448],\n",
       "         [ 0.0000,  0.0000],\n",
       "         [ 0.0000,  0.0000],\n",
       "         [ 0.0000,  0.0000]], grad_fn=<CopySlices>), Parameter containing:\n",
       " tensor([[-0.0084,  0.5544],\n",
       "         [ 0.0423, -0.1589],\n",
       "         [ 0.0579, -0.8063],\n",
       "         [-1.0263, -1.1404],\n",
       "         [ 1.0257,  1.1381],\n",
       "         [-0.0241, -0.7162],\n",
       "         [-0.0181,  0.1500],\n",
       "         [-0.0085,  0.1448],\n",
       "         [ 0.0000,  0.0000],\n",
       "         [ 0.0000,  0.0000]], requires_grad=True))"
      ]
     },
     "execution_count": 106,
     "metadata": {},
     "output_type": "execute_result"
    },
    {
     "data": {
      "image/png": "[encoded data removed]",
      "text/plain": [
       "<Figure size 432x288 with 1 Axes>"
      ]
     },
     "metadata": {
      "needs_background": "light"
     },
     "output_type": "display_data"
    }
   ],
   "source": [
    "step = 0\n",
    "s2_ = s_[step:]\n",
    "x_ = s2_[:,0].data.numpy()\n",
    "y_ = s2_[:,1].data.numpy()\n",
    "\n",
    "controls2_ = _controls.data.clone()\n",
    "controls2_[:-(step+1)] = _controls[step+1:]\n",
    "controls2_[-(step+1):]=0\n",
    "    \n",
    "start2_ = start + (step +1)*3\n",
    "plt.scatter(x_,y_,c='b',s=20)\n",
    "plt.scatter(cx,cy,c='r',s=1)\n",
    "controls2_,_controls\n"
   ]
  },
  {
   "cell_type": "code",
   "execution_count": 98,
   "metadata": {},
   "outputs": [
    {
     "data": {
      "text/plain": [
       "(Parameter containing:\n",
       " tensor([1.8064, 2.2475, 2.6507, 2.8838, 3.0197, 3.0864, 3.1329, 3.1753, 3.1753,\n",
       "         3.1753], requires_grad=True), Parameter containing:\n",
       " tensor([[-0.0636,  0.5025],\n",
       "         [-0.0854,  0.4851],\n",
       "         [-0.0546,  0.3112],\n",
       "         [-0.0061,  0.1693],\n",
       "         [ 0.0114,  0.0673],\n",
       "         [-0.0148, -0.0405],\n",
       "         [ 0.0000,  0.0000],\n",
       "         [ 0.0000,  0.0000],\n",
       "         [ 0.0000,  0.0000],\n",
       "         [ 0.0000,  0.0000]], requires_grad=True))"
      ]
     },
     "execution_count": 98,
     "metadata": {},
     "output_type": "execute_result"
    }
   ],
   "source": [
    "state0_ = s2_[0]\n",
    "start_ = (start + vs[:3].sum().round().int())\n",
    "controls_ = torch.cat( [_controls[2:],torch.zeros_like(_controls[:2])],dim=0)\n",
    "#controls_[:,2]=1\n",
    "controls_ = torch.nn.Parameter(controls_.data.clone())\n",
    "vs_ = torch.zeros_like(vs)\n",
    "vs_[:-2]=vs[2:]\n",
    "vs_[-2:]=vs[-1]\n",
    "vs_ = torch.nn.Parameter(vs_.data.clone())\n",
    "vs_,controls_"
   ]
  },
  {
   "cell_type": "code",
   "execution_count": 94,
   "metadata": {},
   "outputs": [
    {
     "data": {
      "text/plain": [
       "tensor([ 6.3231,  2.9579,  2.6732,  0.8252, -0.5831,  0.1357],\n",
       "       grad_fn=<SelectBackward>)"
      ]
     },
     "execution_count": 94,
     "metadata": {},
     "output_type": "execute_result"
    }
   ],
   "source": [
    "state0_ = s2_[0]\n",
    "start_ = (start + vs[:3].sum().round().int())\n",
    "state0_"
   ]
  },
  {
   "cell_type": "code",
   "execution_count": 99,
   "metadata": {},
   "outputs": [
    {
     "name": "stdout",
     "output_type": "stream",
     "text": [
      "tensor([ 6.3231,  2.9579,  2.6732,  0.8252, -0.5831,  0.1357],\n",
      "       grad_fn=<SelectBackward>)\n",
      "Parameter containing:\n",
      "tensor([[-0.0636,  0.5025],\n",
      "        [-0.0854,  0.4851],\n",
      "        [-0.0546,  0.3112],\n",
      "        [-0.0061,  0.1693],\n",
      "        [ 0.0114,  0.0673],\n",
      "        [-0.0148, -0.0405],\n",
      "        [ 0.0000,  0.0000],\n",
      "        [ 0.0000,  0.0000],\n",
      "        [ 0.0000,  0.0000],\n",
      "        [ 0.0000,  0.0000]], requires_grad=True)\n",
      "Parameter containing:\n",
      "tensor([0.8000, 0.8000, 0.8000, 0.8000, 0.8000, 0.8000, 0.8000, 0.8000, 0.8000,\n",
      "        0.8000], requires_grad=True)\n",
      "6.667714 -0.80000013\n",
      "1.916621 -0.87454194\n",
      "1.2979115 -0.91283685\n",
      "1.1404617 -0.9428396\n",
      "0.96841985 -0.9706794\n",
      "0.7207286 -0.99533665\n",
      "0.6464384 -1.0122913\n",
      "0.5910181 -1.0235221\n",
      "0.56214887 -1.0318235\n",
      "0.47636652 -1.0420655\n",
      "0.4047236 -1.0545623\n",
      "0.36866122 -1.0686553\n",
      "0.32675186 -1.0746917\n",
      "0.31590736 -1.0798696\n",
      "0.28388274 -1.0842228\n",
      "0.24586266 -1.0910887\n",
      "0.22480865 -1.0989162\n",
      "0.20326872 -1.1125824\n",
      "0.16586623 -1.1272522\n",
      "0.15343851 -1.134539\n",
      "0.15883766 -1.137222\n",
      "0.13490349 -1.1414528\n",
      "0.13315864 -1.1488398\n",
      "0.13239609 -1.1554948\n",
      "0.1340699 -1.1640435\n",
      "0.109812476 -1.168508\n",
      "0.08777419 -1.1718596\n",
      "0.071525484 -1.1757532\n",
      "0.070363745 -1.1819375\n",
      "0.069355465 -1.1899847\n"
     ]
    },
    {
     "data": {
      "text/plain": [
       "<matplotlib.collections.PathCollection at 0x7f59a0627710>"
      ]
     },
     "execution_count": 99,
     "metadata": {},
     "output_type": "execute_result"
    },
    {
     "data": {
      "image/png": "[encoded data removed]",
      "text/plain": [
       "<Figure size 432x288 with 1 Axes>"
      ]
     },
     "metadata": {
      "needs_background": "light"
     },
     "output_type": "display_data"
    }
   ],
   "source": [
    "len_horizon = 10\n",
    "EMAX=3000\n",
    "kappa=0.1\n",
    "TMAX = 1\n",
    "#_controls = torch.nn.Parameter(torch.zeros(len_horizon,2))\n",
    "print(state0_)\n",
    "dt = torch.ones(len_horizon,1)\n",
    "#controls_ = torch.nn.Parameter(torch.zeros(len_horizon,2))\n",
    "dt = torch.ones(len_horizon,1)\n",
    "\n",
    "vs_ = torch.nn.Parameter(torch.ones(len_horizon)*0.8)\n",
    "\n",
    "print(controls_)\n",
    "\n",
    "#vs = torch.nn.Parameter(torch.ones(len_horizon))\n",
    "print(vs_)\n",
    "opt = torch.optim.Adam([vs_]+[controls_],lr=0.001)\n",
    "#print(controls.size())\n",
    "for T in range(TMAX):\n",
    "    for epoch in range(EMAX):\n",
    "        controls = torch.cat([controls_,dt],dim=1)\n",
    "        s=state0_\n",
    "        s__=[]\n",
    "        for t in range(len_horizon):\n",
    "            #print(controls.size())\n",
    "            s = model(s,controls[t])\n",
    "            s__.append(s.view(1,-1))\n",
    "        s__ = torch.cat(s__,dim=0)\n",
    "        if epoch==0:\n",
    "            s0_ = s__.data.clone()\n",
    "        dev = deviation_error_.apply\n",
    "        dev_loss = dev(s__,vs_,waypoints,start_)\n",
    "        v_loss = -kappa*vs_.sum()\n",
    "        loss =  dev_loss #v_loss + dev_loss \n",
    "        if epoch % 100 ==0:\n",
    "            print(dev_loss.data.numpy(),v_loss.data.numpy())\n",
    "        opt.zero_grad()\n",
    "        loss.backward(retain_graph=True)\n",
    "        opt.step()\n",
    "x_ = s__[:,0].data.numpy()\n",
    "y_ = s__[:,1].data.numpy()\n",
    "    \n",
    "plt.scatter(x_,y_,c='b',s=20)\n",
    "plt.scatter(cx,cy,c='r',s=1)"
   ]
  },
  {
   "cell_type": "code",
   "execution_count": 97,
   "metadata": {},
   "outputs": [
    {
     "data": {
      "text/plain": [
       "<matplotlib.collections.PathCollection at 0x7f59a0490f98>"
      ]
     },
     "execution_count": 97,
     "metadata": {},
     "output_type": "execute_result"
    },
    {
     "data": {
      "image/png": "[encoded data removed]",
      "text/plain": [
       "<Figure size 432x288 with 1 Axes>"
      ]
     },
     "metadata": {
      "needs_background": "light"
     },
     "output_type": "display_data"
    }
   ],
   "source": [
    "x_ = s0_[:,0].data.numpy()\n",
    "y_ = s0_[:,1].data.numpy()\n",
    "    \n",
    "plt.scatter(x_,y_,c='b',s=20)\n",
    "plt.scatter(cx,cy,c='r',s=1)"
   ]
  },
  {
   "cell_type": "code",
   "execution_count": 61,
   "metadata": {},
   "outputs": [
    {
     "name": "stdout",
     "output_type": "stream",
     "text": [
      "tensor(153) tensor(153.8121, grad_fn=<AddBackward0>)\n",
      "tensor(154) tensor(154.6242, grad_fn=<AddBackward0>)\n",
      "tensor(155) tensor(155.5035, grad_fn=<AddBackward0>)\n",
      "tensor(157) tensor(156.4247, grad_fn=<AddBackward0>)\n",
      "tensor(158) tensor(157.3033, grad_fn=<AddBackward0>)\n",
      "tensor(160) tensor(158.4999, grad_fn=<AddBackward0>)\n",
      "tensor(162) tensor(159.8758, grad_fn=<AddBackward0>)\n",
      "tensor(165) tensor(161.5962, grad_fn=<AddBackward0>)\n",
      "tensor(168) tensor(163.5596, grad_fn=<AddBackward0>)\n",
      "tensor(171) tensor(165.9267, grad_fn=<AddBackward0>)\n"
     ]
    }
   ],
   "source": [
    "for i, s__ in enumerate(s_):\n",
    "    print(search__(s__,[waypoints[:,0],waypoints[:,1],_,_],_indx=start_) ,vs[:i+1].sum()+start_)"
   ]
  },
  {
   "cell_type": "code",
   "execution_count": 53,
   "metadata": {},
   "outputs": [],
   "source": [
    "def search__(state,waypoints,_indx):\n",
    "    x,y = state[0],state[1]\n",
    "    \n",
    "    cx,cy,_,_ = waypoints\n",
    "    dx = x-cx[_indx:_indx+L]\n",
    "    dy = y-cy[_indx:_indx+L]\n",
    "    d2 = dx.pow(2) + dy.pow(2)\n",
    "    indx = torch.argmin(d2) + _indx\n",
    "\n",
    "    return indx"
   ]
  },
  {
   "cell_type": "code",
   "execution_count": null,
   "metadata": {},
   "outputs": [],
   "source": [
    "class mpc:\n",
    "    def __init__(self,model,evals,optimizer,len_horizon,waypoints):\n",
    "        self.model = model\n",
    "        self.evals = evals\n",
    "        self.optimizer = optimizer\n",
    "        self.len_horizon = len_horizon\n",
    "        self.waypoints = waypoints\n",
    "        \n",
    "    def \n",
    "\n",
    "\n"
   ]
  },
  {
   "cell_type": "code",
   "execution_count": null,
   "metadata": {},
   "outputs": [],
   "source": [
    "class grad_test(torch.autograd.Function):\n",
    "    \n",
    "    @staticmethod\n",
    "    def forward(ctx,x):\n",
    "        ctx.save_for_backward(x)\n",
    "        return x*x\n",
    "    \n",
    "    @staticmethod\n",
    "    def backward(ctx,de):\n",
    "        x = ctx.saved_tensors[0]\n",
    "        print(x)\n",
    "        return 2*x"
   ]
  },
  {
   "cell_type": "code",
   "execution_count": null,
   "metadata": {},
   "outputs": [],
   "source": [
    "x=torch.Tensor([5.]).requires_grad_()\n",
    "g = grad_test.apply\n",
    "y = g(x)\n",
    "print(y)\n",
    "y.backward()\n",
    "x.grad.data"
   ]
  },
  {
   "cell_type": "code",
   "execution_count": null,
   "metadata": {},
   "outputs": [],
   "source": [
    "def error_deviation_parallel(states,waypoints,indices,ql,qc):\n",
    "    x,y = states[:,0],states[:,1]\n",
    "    cx,cy,gx,gy = waypoints[indices,0],waypoints[indices,1],waypoints[indices,2],waypoints[indices,3]\n",
    "    el = -gx*(x-cx) - gy*(y-cy)\n",
    "    ec =  gy*(x-cx) - gx*(y-cy)\n",
    "    err = ql*el.pow(2).sum()+qc*ec.pow(2).sum()\n",
    "    return err"
   ]
  },
  {
   "cell_type": "code",
   "execution_count": null,
   "metadata": {},
   "outputs": [],
   "source": [
    "def error_deviation_parallel_(states,refs,indices,ql,qc):\n",
    "    x,y = states[:,0],states[:,1]\n",
    "    cx,cy,gx,gy = refs[:,0],refs[:,1],refs[:,2],refs[:,3]\n",
    "    el = -gx*(x-cx) - gy*(y-cy)\n",
    "    ec =  gy*(x-cx) - gx*(y-cy)\n",
    "    err = ql*el.pow(2).sum()+qc*ec.pow(2).sum()\n",
    "    return err"
   ]
  },
  {
   "cell_type": "code",
   "execution_count": null,
   "metadata": {},
   "outputs": [],
   "source": [
    "import torch\n",
    "\n",
    "ql=1\n",
    "qc=1\n",
    "\n",
    "class deviation_error(torch.autograd.Function):\n",
    "    \n",
    "    @staticmethod\n",
    "    def forward(ctx,states,vs,waypoints):\n",
    "        states = states.data.clone()\n",
    "        states.requires_grad = True\n",
    "        \n",
    "        inds = vs.round().long()\n",
    "        \n",
    "        dw = waypoints[inds+1]-waypoints[inds]\n",
    "        \n",
    "        refs = waypoints[inds].data.clone().requires_grad_()\n",
    "        with torch.enable_grad():\n",
    "            error = error_deviation_parallel_(states,refs,inds,ql,qc)\n",
    "            de_s,de_w = torch.autograd.grad(error,[states]+[refs],grad_outputs=None,retain_graph=False,create_graph=False)\n",
    " \n",
    "        ctx.save_for_backward(states.data.clone(),vs.data.clone(),waypoints,de_s.data.clone(),de_w.data.clone(),dw.data.clone())\n",
    "        \n",
    "        return error\n",
    "    \n",
    "    @staticmethod\n",
    "    def backward(ctx,de):\n",
    "        states,vs,waypoints,de_s,de_w,dw = ctx.saved_tensors\n",
    "          \n",
    "        de_theta = (de_w@dw.t()).diag().view(-1,1)\n",
    "        \n",
    "        _range = torch.arange(len(states)).view(-1,1)\n",
    "        range_ = _range.t()\n",
    "        mask = (_range<=range_).float()\n",
    "        de_v = (mask@de_theta).view(-1)\n",
    "   \n",
    "        \n",
    "        return de_s,de_v,None"
   ]
  },
  {
   "cell_type": "code",
   "execution_count": 87,
   "metadata": {},
   "outputs": [
    {
     "data": {
      "text/plain": [
       "(tensor([7.1618, 2.9268, 3.1397, 0.1686, 0.0000, 0.0000]),\n",
       " tensor([ 6.3231,  2.9579,  2.6732,  0.8252, -0.5831,  0.1357],\n",
       "        grad_fn=<SelectBackward>))"
      ]
     },
     "execution_count": 87,
     "metadata": {},
     "output_type": "execute_result"
    }
   ],
   "source": [
    "state0,state0_"
   ]
  },
  {
   "cell_type": "code",
   "execution_count": null,
   "metadata": {},
   "outputs": [],
   "source": [
    "import torch\n",
    "\n",
    "ql=1\n",
    "qc=1\n",
    "\n",
    "class deviation_error(torch.autograd.Function):\n",
    "    \n",
    "    @staticmethod\n",
    "    def forward(ctx,states,vs,waypoints):\n",
    "        states = states.data.clone()\n",
    "        states.requires_grad = True\n",
    "        \n",
    "        inds = vs.round().long()\n",
    "        \n",
    "        dw = waypoints[inds+1]-waypoints[inds]\n",
    "        print(states.size())\n",
    "       \n",
    "        with torch.enable_grad():\n",
    "            error = error_deviation_parallel(states,waypoints,inds,ql,qc)\n",
    "            de_s = torch.autograd.grad(error,states,grad_outputs=None,retain_graph=False,create_graph=False)[0]\n",
    "        print(de_s.size(),states.size())\n",
    "              \n",
    "        de_w = -de_s\n",
    "        ctx.save_for_backward(states.data.clone(),vs.data.clone(),waypoints,de_s.data.clone(),de_w.data.clone(),dw.data.clone())\n",
    "        print(states,vs.size(),waypoints.size(),de_s.size(),de_w.size(),dw.size())\n",
    "        \n",
    "        return error\n",
    "    \n",
    "    @staticmethod\n",
    "    def backward(ctx,de):\n",
    "        states,vs,waypoints,de_s,de_w,dw = ctx.saved_tensors\n",
    "        de_w = torch.zeros(len(vs),waypoints.size()[1])\n",
    "        \n",
    "        de_w[:,:2] = -de_s[:,:2]\n",
    "        \n",
    "        de_theta = (de_w@dw.t()).diag().view(-1,1)\n",
    "        \n",
    "        _range = torch.range(0,len(states)-1).view(-1,1)\n",
    "        range_ = _range.t()\n",
    "        mask = (_range<=range_).float()\n",
    "        de_v = (mask@de_theta).view(-1)\n",
    "        print(\"########\")\n",
    "        print(de_s)\n",
    "        print(\"########\")\n",
    "        print(de_w)\n",
    "        print(\"########\")\n",
    "        print(de_v)\n",
    "        print(\"########\")\n",
    "        \n",
    "        return de_s,de_v,None\n"
   ]
  },
  {
   "cell_type": "code",
   "execution_count": null,
   "metadata": {},
   "outputs": [],
   "source": []
  },
  {
   "cell_type": "code",
   "execution_count": null,
   "metadata": {},
   "outputs": [],
   "source": [
    "states=torch.ones(5,3).requires_grad_()\n",
    "vs = torch.Tensor([1.1,2.1,3.3,4.7,10.7]).requires_grad_()\n",
    "\n",
    "\n",
    "opt = torch.optim.Adam([states]+[vs],lr=0.1)\n",
    "\n",
    "waypoints = (torch.range(0,100)+0.4).view(-1,1).repeat(1,4)\n",
    "print( waypoints.size() )\n",
    "\n",
    "de = deviation_error.apply\n",
    "err = de(states,vs,waypoints)\n",
    "print(err)\n",
    "opt.zero_grad()\n",
    "err.backward()\n",
    "print(vs.grad.data,states.grad.data)\n",
    "\n",
    "_range = torch.range(0,len(states)).view(-1,1)\n",
    "range_ = _range.t()\n",
    "mask = (_range<=range_).float()\n",
    "mask"
   ]
  },
  {
   "cell_type": "code",
   "execution_count": null,
   "metadata": {},
   "outputs": [],
   "source": [
    "torch.range(0,5).view(-1,1)"
   ]
  },
  {
   "cell_type": "code",
   "execution_count": null,
   "metadata": {},
   "outputs": [],
   "source": [
    "import torch\n",
    "import numpy as np\n",
    "states = torch.nn.Parameter(torch.ones(10,3))\n",
    "waypoints = torch.zeros(100,4)\n",
    "v= torch.Tensor(np.arange(10)).float()\n",
    "inds= v.round().long()\n",
    "\n",
    "#print(v)\n",
    "#print(v+1)\n",
    "#inds = [*range(10)]\n",
    "\n",
    "dw = waypoints[inds+1,:2]-waypoints[inds,:2]\n",
    "print(dw)\n",
    "error = error_deviation_parallel(states,waypoints,indices,ql=1,qc=1)\n",
    "\n",
    "\n",
    "de_s = torch.autograd.grad(error,states,grad_outputs=None,retain_graph=False,create_graph=False)\n",
    "de_s[0].size()"
   ]
  },
  {
   "cell_type": "code",
   "execution_count": null,
   "metadata": {},
   "outputs": [],
   "source": [
    "\n",
    "loss = inds.sum()\n",
    "opt=torch.optim.SGD([vs],lr=0.1)\n",
    "opt.zero_grad()\n",
    "print(vs.grad)\n",
    "loss.backward()\n",
    "print(vs.grad)"
   ]
  },
  {
   "cell_type": "code",
   "execution_count": null,
   "metadata": {},
   "outputs": [],
   "source": [
    "waypoints[0]\n",
    "hl=20\n",
    "\n",
    "das = torch.nn.Parameter(torch.zeros(hl))\n",
    "dds = torch.nn.Parameter(torch.zeros(hl))\n",
    "\n",
    "controls = torch.nn.Parameter(torch.zeros(hl,3))\n",
    "controls[:,2]+=0.01\n",
    "\n",
    "vs = torch.nn.Parameter(torch.arange(1,hl).float()) \n",
    "inds = vs.round()\n",
    "state = torch.Tensor([ 0,0,-0.48,0.01,0.0,0.01 ])\n",
    "\n",
    "#_states=[state.view(1,-1)]\n",
    "_states = []\n",
    "\n",
    "for t in range(hl-1): \n",
    "    state = forward(state,controls[t])\n",
    "    _states.append(state.view(1,-1))\n",
    "\n",
    "\n",
    "states = torch.cat(_states,dim=0)\n",
    "\n",
    "states.size(),vs.size()\n",
    "inds"
   ]
  },
  {
   "cell_type": "code",
   "execution_count": null,
   "metadata": {},
   "outputs": [],
   "source": [
    "def search_(state,waypoints,_indx):\n",
    "    x,y,_,_,_,_ = state\n",
    "    cx,cy = waypoints[:,0],waypoints[:,1]\n",
    "    dx = x-cx[_indx:_indx+L]\n",
    "    dy = y-cy[_indx:_indx+L]\n",
    "    d2 = dx.pow(2) + dy.pow(2)\n",
    "    indx = torch.argmin(d2) + _indx\n",
    "\n",
    "    return indx"
   ]
  },
  {
   "cell_type": "code",
   "execution_count": null,
   "metadata": {},
   "outputs": [],
   "source": [
    "states[16]"
   ]
  },
  {
   "cell_type": "code",
   "execution_count": null,
   "metadata": {},
   "outputs": [],
   "source": [
    "search_parallel(states[:16],waypoints,0)"
   ]
  },
  {
   "cell_type": "code",
   "execution_count": null,
   "metadata": {},
   "outputs": [],
   "source": [
    "L=100\n",
    "def search_parallel(states,waypoints,_indx):\n",
    "    xs,ys = states[:,0].view(-1,1),states[:,1].view(-1,1)\n",
    "    cx,cy = waypoints[:,0].view(1,-1),waypoints[:,1].view(1,-1)\n",
    "    dx = xs - cx[:,_indx:_indx+L]\n",
    "    dy = ys - cy[:,_indx:_indx+L]\n",
    "    d2 = dx.pow(2) + dy.pow(2)\n",
    "    inds = torch.argmin(d2,dim=1) + _indx\n",
    "    return inds"
   ]
  },
  {
   "cell_type": "code",
   "execution_count": null,
   "metadata": {},
   "outputs": [],
   "source": []
  },
  {
   "cell_type": "code",
   "execution_count": null,
   "metadata": {},
   "outputs": [],
   "source": []
  },
  {
   "cell_type": "code",
   "execution_count": null,
   "metadata": {},
   "outputs": [],
   "source": [
    "state=torch.Tensor([1,1,1,1,1,1])\n",
    "control=torch.Tensor([1,1,1])\n",
    "forward(state,control)\n"
   ]
  },
  {
   "cell_type": "code",
   "execution_count": null,
   "metadata": {},
   "outputs": [],
   "source": [
    "d=torch.ones(2)\n",
    "torch.max(d,2*torch.ones_like(d))"
   ]
  },
  {
   "cell_type": "code",
   "execution_count": null,
   "metadata": {},
   "outputs": [],
   "source": [
    "THRESHOLD = -0.01\n",
    "learning_rate = 0.001\n",
    "EMAX=100000\n",
    "\n",
    "class constrained_optimization:\n",
    "    def __init__(self,obj,cons,myu):\n",
    "        self.obj = obj\n",
    "        self.cons = cons\n",
    "        self.myu = myu\n",
    "    \n",
    "    def compute_penalty(self,x):\n",
    "        penalty = 0\n",
    "        for con in self.cons:\n",
    "            c = torch.max(con(x),THRESHOLD*torch.ones_like(con(x)))\n",
    "            #if c>THRESHOLD:\n",
    "            penalty += torch.log(-c).sum()\n",
    "        return penalty\n",
    "    \n",
    "    def compute_cost(self,x):\n",
    "        cost = self.obj(x) - self.myu*self.compute_penalty(x)\n",
    "        return cost\n",
    "    \n",
    "    def judge_bleaching(self,x):\n",
    "        judge = torch.prod(torch.cat([torch.prod(c(x)<=0).view(1) for c in self.cons]) )\n",
    "        return judge\n",
    "\n",
    "    def run(self,x0):\n",
    "        c=0\n",
    "        x = torch.nn.Parameter(x0)\n",
    "        opt=torch.optim.Adam([x],lr=learning_rate)\n",
    "        _x = x.data.clone()\n",
    "        for epoch in range(EMAX):\n",
    "       \n",
    "            cost = self.compute_cost(x)\n",
    "            opt.zero_grad()\n",
    "            cost.backward()\n",
    "            opt.step()\n",
    "            \n",
    "            if self.judge_bleaching(x):\n",
    "                _x = x.data.clone()\n",
    "            else:\n",
    "                return _x\n",
    "        return x"
   ]
  },
  {
   "cell_type": "code",
   "execution_count": null,
   "metadata": {},
   "outputs": [],
   "source": [
    "def objective(x):\n",
    "    return x.pow(2).sum()"
   ]
  },
  {
   "cell_type": "code",
   "execution_count": null,
   "metadata": {},
   "outputs": [],
   "source": [
    "def const1(x):\n",
    "    return x-5\n",
    "def const2(x):\n",
    "    return (x-1).pow(2).sum()-1"
   ]
  },
  {
   "cell_type": "code",
   "execution_count": null,
   "metadata": {},
   "outputs": [],
   "source": [
    "co = constrained_optimization(objective,[const2],myu=0.0001)\n",
    "x0 = torch.FloatTensor([1.2,1.2])\n",
    "x=co.run(x0)"
   ]
  },
  {
   "cell_type": "code",
   "execution_count": null,
   "metadata": {},
   "outputs": [],
   "source": [
    "#x=torch.Tensor([0,0])\n",
    "(x-1).pow(2).sum()-1\n",
    "(x-1.01).pow(2).sum()-1\n"
   ]
  },
  {
   "cell_type": "code",
   "execution_count": null,
   "metadata": {},
   "outputs": [],
   "source": [
    "x-5"
   ]
  },
  {
   "cell_type": "code",
   "execution_count": null,
   "metadata": {},
   "outputs": [],
   "source": [
    "m=1500\n",
    "I=2500\n",
    "lf=1.1\n",
    "lr=1.6\n",
    "Kf=55\n",
    "Kr=60"
   ]
  },
  {
   "cell_type": "code",
   "execution_count": null,
   "metadata": {},
   "outputs": [],
   "source": [
    "def forward(state,control):\n",
    "    x,y,phi,vx,vy,r,delta,T = state\n",
    "    d_delta,dt = control\n",
    "    \n",
    "    cos_p = torch.cos(phi)\n",
    "    sin_p = torch.sin(phi)\n",
    "    cos_d = torch.cos(delta)\n",
    "    sin_d = torch.sin(delta)\n",
    "    \n",
    "    alpha_r = torch.atan((vy-lr*r)/vx )\n",
    "    alpha_f = torch.atan((vy-lf*r)/vx - delta )\n",
    "    \n",
    "    Fry = Dr*torch.sin( Cr*torch.atan(B*alpha_r) )\n",
    "    Fry = Df*torch.sin( Cf*torch.atan(B*alpha_f) )\n",
    "    Fx = Cm2*T - Cr0 - Cr2*vx*vx #those parameters to be determin\n",
    "    r_target = delta*vx/(lf+lr)\n",
    "    tau = (r_target-r)*Ptv\n",
    "    \n",
    "    v_2 = vx.pow(2) + vy.pow(2)\n",
    "    v = torch.(sqrt(v_2))\n",
    "    \n",
    "    d_beta = -r - 2*(Kf*(beta+lr/v*r-delta)+Kr*(beta-lr/v*r) )/m/v\n",
    "    d_r = -2*( Kf*(beta+lf/v*r-delta)*lf + Kr*(beta-lr/V*r)*lr )/I\n",
    "    \n",
    "    dx = vx*cos_p - vy*sin_p\n",
    "    dy = vx*sin_p + vy*cos_p\n",
    "    d_phi = r\n",
    "    dvx = (Fx - Ffy*sin_d + m*vy*r)/m\n",
    "    dvy = (Fry - Ffy*cos_d - m*vx*r)/m\n",
    "    dr = (Ffy*lf*cos_d - Fry*lr + tau)/lz\n",
    "    \n",
    "    x_     = x + dx*dt\n",
    "    y_     = y + dy*dt\n",
    "    phi_   = phi + d_phi*dt\n",
    "    vx_    = vx + dvx*dt\n",
    "    vy_    = vy + dvy*dt\n",
    "    r_     = r + dr*dt\n",
    "    delta_ = delta + d_delta\n",
    "    T_     = T + dt\n",
    "    "
   ]
  },
  {
   "cell_type": "code",
   "execution_count": null,
   "metadata": {},
   "outputs": [],
   "source": [
    "a=np.zeros(10)\n",
    "a.shape"
   ]
  },
  {
   "cell_type": "code",
   "execution_count": null,
   "metadata": {},
   "outputs": [],
   "source": []
  },
  {
   "cell_type": "code",
   "execution_count": null,
   "metadata": {},
   "outputs": [],
   "source": []
  },
  {
   "cell_type": "code",
   "execution_count": null,
   "metadata": {},
   "outputs": [],
   "source": [
    "def construct_sigma(df,dg,sigma_x,sigma_w,B):\n",
    "    \n",
    "    sigma_00 = sigma_x\n",
    "    sigma_10 = dg@sigma_x\n",
    "    sigma_01 = sigma_10.t()\n",
    "    sigma_11 = sigma_10@dg.t() + sigma_w\n",
    "    \n",
    "    sigma_0 = torch.cat([sigma_00,sigma_01],dim=1)\n",
    "    sigma_1 = torch.cat([sigma_10,sigma_11],dim=1)\n",
    "    \n",
    "    sigma_ = torch.cat([sigma_0,sigma_1],dim=0)\n",
    "    \n",
    "    vec = torch.cat([df,B],dim=1)\n",
    "    \n",
    "    sigma = vec@sigma_@vec.t()\n",
    "    \n",
    "    return sigma"
   ]
  },
  {
   "cell_type": "code",
   "execution_count": null,
   "metadata": {},
   "outputs": [],
   "source": [
    "def evaluate(func,state,control,grad=True):\n",
    "    F = func(state,control)\n",
    "    dF = None\n",
    "    if grad:\n",
    "        dF_ = [torch.autograd.grad(f,[state],grad_outputs=None,retain_graph=True,create_graph=False,only_inputs=True,allow_unused=True)[0].view(1,-1) for f in F]\n",
    "        dF  = torch.cat(dF_,dim=0)\n",
    "    return F,dF"
   ]
  },
  {
   "cell_type": "code",
   "execution_count": null,
   "metadata": {},
   "outputs": [],
   "source": [
    "def process(state,control):\n",
    "    s0 = state[0]*control[0]\n",
    "    s1 = state[1]*control[1]\n",
    "    s2 = state[2]*control[1]\n",
    "    \n",
    "    return torch.cat([s0.view(1),s1.view(1),s2.view(1)],dim=0)"
   ]
  },
  {
   "cell_type": "code",
   "execution_count": null,
   "metadata": {},
   "outputs": [],
   "source": [
    "def error_model(state,control):\n",
    "    e0 = state[0]*control[0]*0.1\n",
    "    e1 = state[1]*control[1]*0.1\n",
    "    return torch.cat([e0.view(1),e1.view(1)],dim=0)"
   ]
  },
  {
   "cell_type": "code",
   "execution_count": null,
   "metadata": {},
   "outputs": [],
   "source": []
  },
  {
   "cell_type": "code",
   "execution_count": null,
   "metadata": {},
   "outputs": [],
   "source": [
    "sigma_x = torch.eye(3)*2\n",
    "sigma_w = torch.eye(2)*2\n",
    "B = torch.cat([torch.eye(2),torch.zeros(1,2)],dim=0)\n",
    "B"
   ]
  },
  {
   "cell_type": "code",
   "execution_count": null,
   "metadata": {},
   "outputs": [],
   "source": [
    "state = torch.nn.Parameter(torch.Tensor([1.,2.,3.]))\n",
    "print(state.requires_grad)\n",
    "control = torch.Tensor([2.,1.])\n",
    "f,df = evaluate(process,state,control)\n",
    "g,dg = evaluate(error_model,state,control)\n",
    "construct_sigma(df,dg,sigma_x,sigma_w,B)"
   ]
  },
  {
   "cell_type": "code",
   "execution_count": null,
   "metadata": {},
   "outputs": [],
   "source": [
    "import cubic_spline_planner"
   ]
  },
  {
   "cell_type": "code",
   "execution_count": null,
   "metadata": {},
   "outputs": [],
   "source": [
    "print(\"LQR steering control tracking start!!\")\n",
    "ax = [0.0, 6.0, 12.5, 10.0, 7.5, 3.0, -1.0]\n",
    "ay = [0.0, -3.0, -5.0, 6.5, 3.0, 5.0, -2.0]\n",
    "goal = [ax[-1], ay[-1]]\n",
    "\n",
    "cx, cy, cyaw, ck, s = cubic_spline_planner.calc_spline_course(\n",
    "        ax, ay, ds=0.0001)"
   ]
  },
  {
   "cell_type": "code",
   "execution_count": null,
   "metadata": {},
   "outputs": [],
   "source": [
    "import matplotlib.pyplot as plt\n",
    "import numpy as np\n",
    "print(\"LQR steering control tracking start!!\")\n",
    "ax = [0.0, 6.0, 12.5, 10.0, 7.5, 3.0, -1.0]\n",
    "ay = [0.0, -3.0, -5.0, 6.5, 3.0, 5.0, -2.0]\n",
    "goal = [ax[-1], ay[-1]]\n",
    "\n",
    "cx, cy, cyaw, ck, s = cubic_spline_planner.calc_spline_course(\n",
    "        ax, ay, ds=0.0001)\n",
    "i=0000\n",
    "dx = (cx[i+1]-2*cx[i]+cx[i-1])/2\n",
    "dy = (cy[i+1]-2*cy[i]+cy[i-1])/2\n",
    "print(dy/dx,cyaw[i])\n",
    "plt.scatter(cx[i:],cy[i:])\n",
    "plt.scatter(ax,ay,c='r')\n",
    "gx=np.com\n",
    "ir"
   ]
  },
  {
   "cell_type": "code",
   "execution_count": null,
   "metadata": {},
   "outputs": [],
   "source": [
    "gy[0]/gx[0]"
   ]
  },
  {
   "cell_type": "code",
   "execution_count": null,
   "metadata": {},
   "outputs": [],
   "source": [
    "\n",
    "import numpy as np\n",
    "\n",
    "cx = np.array(cx)\n",
    "cy = np.array(cy)\n",
    "\n",
    "dx = cx[1:]-cx[:-1]\n",
    "dy = cy[1:]-cy[:-1]\n",
    "\n",
    "grad = dy/dx\n",
    "\n",
    "gx,gy = np.cos(grad),np.sin(grad)\n",
    "\n",
    "gx=np.append(gx,0)\n",
    "gy=np.append(gy,0)\n",
    "\n",
    "\n",
    "waypoints = torch.cat([torch.FloatTensor(cx).view(-1,1),torch.FloatTensor(cy).view(-1,1),torch.FloatTensor(gx).view(-1,1),torch.FloatTensor(gy).view(-1,1)] ,dim=1)\n",
    "waypoints.size()"
   ]
  },
  {
   "cell_type": "code",
   "execution_count": null,
   "metadata": {},
   "outputs": [],
   "source": [
    "\n",
    "dx = (cx[i+1]-2*cx[i]+cx[i-1])/2\n",
    "dy = (cy[i+1]-2*cy[i]+cy[i-1])/2\n",
    "print(dy/dx,cyaw[i])"
   ]
  },
  {
   "cell_type": "code",
   "execution_count": null,
   "metadata": {},
   "outputs": [],
   "source": [
    "a=torch.zeros(10,4)\n",
    "indices=[1,4,5]\n",
    "a[indices,0]"
   ]
  },
  {
   "cell_type": "code",
   "execution_count": null,
   "metadata": {},
   "outputs": [],
   "source": [
    "states = torch.ones(3,2)\n",
    "indices = [10,20,30]\n",
    "e = compute_error_parallel(states,waypoints,indices,1,2)\n",
    "e,waypoints[indices]"
   ]
  },
  {
   "cell_type": "code",
   "execution_count": null,
   "metadata": {},
   "outputs": [],
   "source": [
    "a=torch.Tensor([1.001])\n",
    "a.round()"
   ]
  },
  {
   "cell_type": "code",
   "execution_count": null,
   "metadata": {},
   "outputs": [],
   "source": [
    "def \n",
    "\n"
   ]
  },
  {
   "cell_type": "code",
   "execution_count": null,
   "metadata": {},
   "outputs": [],
   "source": [
    "def compute_error_parallel(states,waypoints,indices,ql,qc):\n",
    "    x,y = states[:,0],states[:,1]\n",
    "    cx,cy,gx,gy = waypoints[indices,0],waypoints[indices,1],waypoints[indices,2],waypoints[indices,3]\n",
    "    el = -gx*(x-cx) - gy*(y-cy)\n",
    "    ec =  gy*(x-cx) - gx*(y-cy)\n",
    "    err = ql*el.pow(2).sum()+qc*ec.pow(2).sum()\n",
    "    return err"
   ]
  },
  {
   "cell_type": "code",
   "execution_count": null,
   "metadata": {},
   "outputs": [],
   "source": [
    "def compute_error(state,waypoints,indx):\n",
    "    x,y,phi,vx,vy,r,delta,T = state\n",
    "    cx,cy,gx,gy = waypoints[indx]   \n",
    "    el = -gx*(x-cx) - gy*(y-cy)\n",
    "    ec =  gy*(x-cx) - gx*(y-cy)\n",
    "    return el,ec"
   ]
  },
  {
   "cell_type": "code",
   "execution_count": null,
   "metadata": {},
   "outputs": [],
   "source": [
    "L = 100\n",
    "\n",
    "def search_(state,waypoints,_indx):\n",
    "    x,y,phi,vx,vy,r,delta,T = state\n",
    "    cx,cy,gx,gy = waypoints\n",
    "    dx = x-cx[_indx:_indx+L]\n",
    "    dy = y-cy[_indx:_indx+L]\n",
    "    d2 = dx.pow(2) + dy.pow(2)\n",
    "    indx = torch.argmin(d2) + _indx\n",
    "\n",
    "    return indx_\n"
   ]
  },
  {
   "cell_type": "code",
   "execution_count": null,
   "metadata": {},
   "outputs": [],
   "source": [
    "import torch\n",
    "\n",
    "waypoints = torch.Tensor(cx),torch.Tensor(cy),_,_\n",
    "states = torch.Tensor([0.00081]),torch.Tensor([-0.00041]),_,_,_,_,_,_\n",
    "ind = 7\n",
    "ind_ = compute_error(states,waypoints,ind)\n"
   ]
  },
  {
   "cell_type": "code",
   "execution_count": null,
   "metadata": {},
   "outputs": [],
   "source": [
    "ind_"
   ]
  },
  {
   "cell_type": "code",
   "execution_count": null,
   "metadata": {},
   "outputs": [],
   "source": [
    "waypoints[0][10],waypoints[1][10]"
   ]
  },
  {
   "cell_type": "code",
   "execution_count": null,
   "metadata": {},
   "outputs": [],
   "source": [
    "\n"
   ]
  }
 ],
 "metadata": {
  "kernelspec": {
   "display_name": "Python 3",
   "language": "python",
   "name": "python3"
  },
  "language_info": {
   "codemirror_mode": {
    "name": "ipython",
    "version": 3
   },
   "file_extension": ".py",
   "mimetype": "text/x-python",
   "name": "python",
   "nbconvert_exporter": "python",
   "pygments_lexer": "ipython3",
   "version": "3.6.8"
  }
 },
 "nbformat": 4,
 "nbformat_minor": 4
}
